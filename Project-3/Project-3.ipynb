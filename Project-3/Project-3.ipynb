{
 "cells": [
  {
   "cell_type": "markdown",
   "id": "e710358c",
   "metadata": {},
   "source": [
    "# Submission 3"
   ]
  },
  {
   "cell_type": "markdown",
   "id": "193658b7",
   "metadata": {},
   "source": [
    "We have selected following data for our analysis:\n",
    "Hang Seng Investment Index Funds Series II - Hang Seng Index ETF traded on HKSE in Hong Kong dollar.\n",
    "SPDR Gold ETF(GLD) traded on Nasdaq in USD.\n",
    "Bitcoin in USD.\n",
    "Data source: Yahoo Finance website.\n",
    "Time Frame: Jan to Dec-2020"
   ]
  },
  {
   "cell_type": "code",
   "execution_count": 86,
   "id": "11598482",
   "metadata": {},
   "outputs": [
    {
     "name": "stdout",
     "output_type": "stream",
     "text": [
      "Collecting copulalib\n",
      "  Downloading copulalib-1.1.0.tar.gz (13 kB)\n",
      "Building wheels for collected packages: copulalib\n",
      "  Building wheel for copulalib (setup.py): started\n",
      "  Building wheel for copulalib (setup.py): finished with status 'done'\n",
      "  Created wheel for copulalib: filename=copulalib-1.1.0-py3-none-any.whl size=15495 sha256=7702ab1a8b62e873a0065ca5ad7c3df57afd726b827825326efbe7a7db33a8c6\n",
      "  Stored in directory: c:\\users\\admin\\appdata\\local\\pip\\cache\\wheels\\8b\\7f\\fe\\02801e0af7b7fe6ec7b7b45bbd3ff9f46867426fa94f75b0f0\n",
      "Successfully built copulalib\n",
      "Installing collected packages: copulalib\n",
      "Successfully installed copulalib-1.1.0\n"
     ]
    }
   ],
   "source": [
    "# !pip install copulalib"
   ]
  },
  {
   "cell_type": "code",
   "execution_count": 4,
   "id": "a2e6bb78",
   "metadata": {},
   "outputs": [],
   "source": [
    "import arch\n",
    "import holidays\n",
    "import pandas as pd\n",
    "import numpy as np\n",
    "from pandas import Series, DataFrame\n",
    "import matplotlib.pyplot as plt\n",
    "import seaborn as sns\n",
    "from scipy import stats\n",
    "from datetime import datetime\n",
    "from statsmodels.tsa.arima.model import ARIMA\n",
    "from statsmodels.tsa.statespace.varmax import VARMAX\n",
    "from statsmodels.tsa.stattools import adfuller, coint\n",
    "from statsmodels.tsa.vector_ar.vecm import VECM\n",
    "from sklearn import preprocessing\n",
    "from scipy import stats\n",
    "from datetime import datetime\n",
    "from statsmodels.tsa.stattools import adfuller, coint # for ADF and Cointegration\n",
    "from statsmodels.tsa.vector_ar.vecm import VECM\n",
    "from sklearn.cluster import DBSCAN\n",
    "from pandas import Series, DataFrame\n",
    "from scipy.stats import kurtosis\n",
    "import matplotlib.pyplot as plt\n",
    "import seaborn as sns\n",
    "%matplotlib inline"
   ]
  },
  {
   "cell_type": "markdown",
   "id": "4262b61d",
   "metadata": {},
   "source": [
    "## Dataset Importing, Processing, Summaries and Extreme Values"
   ]
  },
  {
   "cell_type": "code",
   "execution_count": 5,
   "id": "f8c808a9",
   "metadata": {},
   "outputs": [],
   "source": [
    "gld_df = pd.read_csv(\"sub2/GLD.csv\")\n",
    "ety_df = pd.read_csv(\"sub2/2833.HK.csv\")\n",
    "btc_df = pd.read_csv(\"sub2/BTC-USD.csv\")"
   ]
  },
  {
   "cell_type": "code",
   "execution_count": 6,
   "id": "9201a2af",
   "metadata": {},
   "outputs": [],
   "source": [
    "def dtindex(df):\n",
    "    df[\"Date\"] = pd.to_datetime(df[\"Date\"], format=\"%Y-%m-%d\")\n",
    "    df.set_index(\"Date\", inplace=True)   \n",
    "    return df"
   ]
  },
  {
   "cell_type": "code",
   "execution_count": 7,
   "id": "b710e631",
   "metadata": {},
   "outputs": [],
   "source": [
    "def apr_index(df):\n",
    "    return df.loc[df.index > \"2020-03-31\"]"
   ]
  },
  {
   "cell_type": "code",
   "execution_count": 8,
   "id": "653edf42",
   "metadata": {},
   "outputs": [],
   "source": [
    "gld_df = dtindex(gld_df)\n",
    "ety_df = dtindex(ety_df)\n",
    "btc_df = dtindex(btc_df)"
   ]
  },
  {
   "cell_type": "code",
   "execution_count": 9,
   "id": "4ee0303b",
   "metadata": {},
   "outputs": [],
   "source": [
    "# taking April to December Dataset\n",
    "gld_df = apr_index(gld_df)\n",
    "ety_df = apr_index(ety_df)\n",
    "btc_df = apr_index(btc_df)"
   ]
  },
  {
   "cell_type": "code",
   "execution_count": 10,
   "id": "5e84caad",
   "metadata": {},
   "outputs": [],
   "source": [
    "gld_df.fillna(gld_df.mean(), inplace=True)\n",
    "ety_df.fillna(ety_df.mean(), inplace=True)\n",
    "btc_df.fillna(btc_df.mean(), inplace=True)"
   ]
  },
  {
   "cell_type": "code",
   "execution_count": 11,
   "id": "95a04a04",
   "metadata": {},
   "outputs": [
    {
     "data": {
      "text/html": [
       "<div>\n",
       "<style scoped>\n",
       "    .dataframe tbody tr th:only-of-type {\n",
       "        vertical-align: middle;\n",
       "    }\n",
       "\n",
       "    .dataframe tbody tr th {\n",
       "        vertical-align: top;\n",
       "    }\n",
       "\n",
       "    .dataframe thead th {\n",
       "        text-align: right;\n",
       "    }\n",
       "</style>\n",
       "<table border=\"1\" class=\"dataframe\">\n",
       "  <thead>\n",
       "    <tr style=\"text-align: right;\">\n",
       "      <th></th>\n",
       "      <th>Open</th>\n",
       "      <th>High</th>\n",
       "      <th>Low</th>\n",
       "      <th>Close</th>\n",
       "      <th>Adj Close</th>\n",
       "      <th>Volume</th>\n",
       "    </tr>\n",
       "    <tr>\n",
       "      <th>Date</th>\n",
       "      <th></th>\n",
       "      <th></th>\n",
       "      <th></th>\n",
       "      <th></th>\n",
       "      <th></th>\n",
       "      <th></th>\n",
       "    </tr>\n",
       "  </thead>\n",
       "  <tbody>\n",
       "    <tr>\n",
       "      <th>2020-04-01</th>\n",
       "      <td>148.199997</td>\n",
       "      <td>150.080002</td>\n",
       "      <td>147.850006</td>\n",
       "      <td>149.449997</td>\n",
       "      <td>149.449997</td>\n",
       "      <td>11827400</td>\n",
       "    </tr>\n",
       "    <tr>\n",
       "      <th>2020-04-02</th>\n",
       "      <td>151.199997</td>\n",
       "      <td>152.500000</td>\n",
       "      <td>150.699997</td>\n",
       "      <td>151.899994</td>\n",
       "      <td>151.899994</td>\n",
       "      <td>9188300</td>\n",
       "    </tr>\n",
       "    <tr>\n",
       "      <th>2020-04-03</th>\n",
       "      <td>152.229996</td>\n",
       "      <td>153.089996</td>\n",
       "      <td>151.660004</td>\n",
       "      <td>152.649994</td>\n",
       "      <td>152.649994</td>\n",
       "      <td>8469100</td>\n",
       "    </tr>\n",
       "    <tr>\n",
       "      <th>2020-04-06</th>\n",
       "      <td>154.160004</td>\n",
       "      <td>157.220001</td>\n",
       "      <td>153.960007</td>\n",
       "      <td>156.880005</td>\n",
       "      <td>156.880005</td>\n",
       "      <td>14739300</td>\n",
       "    </tr>\n",
       "    <tr>\n",
       "      <th>2020-04-07</th>\n",
       "      <td>155.330002</td>\n",
       "      <td>156.139999</td>\n",
       "      <td>154.380005</td>\n",
       "      <td>156.039993</td>\n",
       "      <td>156.039993</td>\n",
       "      <td>9195400</td>\n",
       "    </tr>\n",
       "  </tbody>\n",
       "</table>\n",
       "</div>"
      ],
      "text/plain": [
       "                  Open        High         Low       Close   Adj Close  \\\n",
       "Date                                                                     \n",
       "2020-04-01  148.199997  150.080002  147.850006  149.449997  149.449997   \n",
       "2020-04-02  151.199997  152.500000  150.699997  151.899994  151.899994   \n",
       "2020-04-03  152.229996  153.089996  151.660004  152.649994  152.649994   \n",
       "2020-04-06  154.160004  157.220001  153.960007  156.880005  156.880005   \n",
       "2020-04-07  155.330002  156.139999  154.380005  156.039993  156.039993   \n",
       "\n",
       "              Volume  \n",
       "Date                  \n",
       "2020-04-01  11827400  \n",
       "2020-04-02   9188300  \n",
       "2020-04-03   8469100  \n",
       "2020-04-06  14739300  \n",
       "2020-04-07   9195400  "
      ]
     },
     "execution_count": 11,
     "metadata": {},
     "output_type": "execute_result"
    }
   ],
   "source": [
    "gld_df.head(5)"
   ]
  },
  {
   "cell_type": "code",
   "execution_count": 12,
   "id": "b3c34f65",
   "metadata": {},
   "outputs": [
    {
     "data": {
      "text/plain": [
       "(185, 190, 4)"
      ]
     },
     "execution_count": 12,
     "metadata": {},
     "output_type": "execute_result"
    }
   ],
   "source": [
    "index1 = set(ety_df.index)\n",
    "index2 = set(gld_df.index)\n",
    "gap = index1-index2\n",
    "len(index1), len(index2), len(gap)"
   ]
  },
  {
   "cell_type": "code",
   "execution_count": 13,
   "id": "b3a18b37",
   "metadata": {},
   "outputs": [],
   "source": [
    "def consis_index(df, indices, missing):\n",
    "    return df.loc[[index for index in indices if index not in missing]]"
   ]
  },
  {
   "cell_type": "code",
   "execution_count": 14,
   "id": "1139d8d1",
   "metadata": {},
   "outputs": [],
   "source": [
    "gld_df = consis_index(gld_df, ety_df.index, gap)\n",
    "ety_df = consis_index(ety_df, ety_df.index, gap)\n",
    "btc_df = consis_index(btc_df, ety_df.index, gap)"
   ]
  },
  {
   "cell_type": "code",
   "execution_count": 15,
   "id": "6048d89d",
   "metadata": {},
   "outputs": [
    {
     "data": {
      "text/plain": [
       "(181, 181, 181)"
      ]
     },
     "execution_count": 15,
     "metadata": {},
     "output_type": "execute_result"
    }
   ],
   "source": [
    "len(gld_df), len(ety_df), len(btc_df)"
   ]
  },
  {
   "cell_type": "code",
   "execution_count": 16,
   "id": "a829796c",
   "metadata": {},
   "outputs": [],
   "source": [
    "# Daily Log Return\n",
    "ety_df['Day_Return'] = np.log(ety_df['Adj Close']) - np.log(ety_df['Adj Close'].shift(1))\n",
    "gld_df[\"Day_Return\"] = np.log(gld_df['Adj Close']) - np.log(gld_df['Adj Close'].shift(1))\n",
    "btc_df[\"Day_Return\"] = np.log(btc_df['Adj Close']) - np.log(btc_df['Adj Close'].shift(1))"
   ]
  },
  {
   "cell_type": "code",
   "execution_count": 17,
   "id": "fb8c6242",
   "metadata": {},
   "outputs": [],
   "source": [
    "gld_df.fillna(gld_df.mean(), inplace=True)\n",
    "ety_df.fillna(ety_df.mean(), inplace=True)\n",
    "btc_df.fillna(btc_df.mean(), inplace=True)"
   ]
  },
  {
   "cell_type": "code",
   "execution_count": 18,
   "id": "206c4448",
   "metadata": {},
   "outputs": [
    {
     "data": {
      "text/html": [
       "<div>\n",
       "<style scoped>\n",
       "    .dataframe tbody tr th:only-of-type {\n",
       "        vertical-align: middle;\n",
       "    }\n",
       "\n",
       "    .dataframe tbody tr th {\n",
       "        vertical-align: top;\n",
       "    }\n",
       "\n",
       "    .dataframe thead th {\n",
       "        text-align: right;\n",
       "    }\n",
       "</style>\n",
       "<table border=\"1\" class=\"dataframe\">\n",
       "  <thead>\n",
       "    <tr style=\"text-align: right;\">\n",
       "      <th></th>\n",
       "      <th>Open</th>\n",
       "      <th>High</th>\n",
       "      <th>Low</th>\n",
       "      <th>Close</th>\n",
       "      <th>Adj Close</th>\n",
       "      <th>Volume</th>\n",
       "      <th>Day_Return</th>\n",
       "    </tr>\n",
       "    <tr>\n",
       "      <th>Date</th>\n",
       "      <th></th>\n",
       "      <th></th>\n",
       "      <th></th>\n",
       "      <th></th>\n",
       "      <th></th>\n",
       "      <th></th>\n",
       "      <th></th>\n",
       "    </tr>\n",
       "  </thead>\n",
       "  <tbody>\n",
       "    <tr>\n",
       "      <th>2020-04-01</th>\n",
       "      <td>24.299999</td>\n",
       "      <td>24.400000</td>\n",
       "      <td>23.549999</td>\n",
       "      <td>23.600000</td>\n",
       "      <td>23.600000</td>\n",
       "      <td>116900</td>\n",
       "      <td>0.000870</td>\n",
       "    </tr>\n",
       "    <tr>\n",
       "      <th>2020-04-02</th>\n",
       "      <td>23.450001</td>\n",
       "      <td>23.799999</td>\n",
       "      <td>23.299999</td>\n",
       "      <td>23.799999</td>\n",
       "      <td>23.799999</td>\n",
       "      <td>54400</td>\n",
       "      <td>0.008439</td>\n",
       "    </tr>\n",
       "    <tr>\n",
       "      <th>2020-04-03</th>\n",
       "      <td>23.900000</td>\n",
       "      <td>23.900000</td>\n",
       "      <td>23.500000</td>\n",
       "      <td>23.650000</td>\n",
       "      <td>23.650000</td>\n",
       "      <td>46400</td>\n",
       "      <td>-0.006322</td>\n",
       "    </tr>\n",
       "    <tr>\n",
       "      <th>2020-04-06</th>\n",
       "      <td>23.900000</td>\n",
       "      <td>24.350000</td>\n",
       "      <td>23.850000</td>\n",
       "      <td>24.299999</td>\n",
       "      <td>24.299999</td>\n",
       "      <td>57400</td>\n",
       "      <td>0.027113</td>\n",
       "    </tr>\n",
       "    <tr>\n",
       "      <th>2020-04-07</th>\n",
       "      <td>24.500000</td>\n",
       "      <td>24.850000</td>\n",
       "      <td>24.350000</td>\n",
       "      <td>24.799999</td>\n",
       "      <td>24.799999</td>\n",
       "      <td>138229</td>\n",
       "      <td>0.020367</td>\n",
       "    </tr>\n",
       "  </tbody>\n",
       "</table>\n",
       "</div>"
      ],
      "text/plain": [
       "                 Open       High        Low      Close  Adj Close  Volume  \\\n",
       "Date                                                                        \n",
       "2020-04-01  24.299999  24.400000  23.549999  23.600000  23.600000  116900   \n",
       "2020-04-02  23.450001  23.799999  23.299999  23.799999  23.799999   54400   \n",
       "2020-04-03  23.900000  23.900000  23.500000  23.650000  23.650000   46400   \n",
       "2020-04-06  23.900000  24.350000  23.850000  24.299999  24.299999   57400   \n",
       "2020-04-07  24.500000  24.850000  24.350000  24.799999  24.799999  138229   \n",
       "\n",
       "            Day_Return  \n",
       "Date                    \n",
       "2020-04-01    0.000870  \n",
       "2020-04-02    0.008439  \n",
       "2020-04-03   -0.006322  \n",
       "2020-04-06    0.027113  \n",
       "2020-04-07    0.020367  "
      ]
     },
     "execution_count": 18,
     "metadata": {},
     "output_type": "execute_result"
    }
   ],
   "source": [
    "ety_df.head()"
   ]
  },
  {
   "cell_type": "code",
   "execution_count": 19,
   "id": "5d34cb42",
   "metadata": {},
   "outputs": [
    {
     "name": "stdout",
     "output_type": "stream",
     "text": [
      "Kurtosis for Equity Returns is: 2.3720158916024063\n",
      "Kurtosis for Gold Returns is: 3.9663292288385605\n",
      "Kurtosis for Bitcoin Returns is: 41.87653604709551\n"
     ]
    }
   ],
   "source": [
    "# Kurtosis for each return series\n",
    "\n",
    "print(\"Kurtosis for Equity Returns is:\",kurtosis(ety_df[\"Day_Return\"].dropna()))\n",
    "print(\"Kurtosis for Gold Returns is:\",kurtosis(gld_df[\"Day_Return\"].dropna()))\n",
    "print(\"Kurtosis for Bitcoin Returns is:\",kurtosis(btc_df[\"Day_Return\"].dropna()))"
   ]
  },
  {
   "cell_type": "code",
   "execution_count": 20,
   "id": "0cccae47",
   "metadata": {},
   "outputs": [],
   "source": [
    "# Identifying Extreme Value using DBscan\n",
    "\n",
    "Ext_Ety = pd.concat([ety_df['Close'], ety_df['Day_Return']], axis=1, keys=['Close', 'Day_Return']).fillna(0).values\n",
    "Ext_Gld = pd.concat([gld_df['Close'], gld_df['Day_Return']], axis=1, keys=['Close', 'Day_Return']).fillna(0).values\n",
    "Ext_Btc = pd.concat([btc_df['Close'], btc_df['Day_Return']], axis=1, keys=['Close', 'Day_Return']).fillna(0).values"
   ]
  },
  {
   "cell_type": "code",
   "execution_count": 21,
   "id": "bc5af581",
   "metadata": {},
   "outputs": [],
   "source": [
    "from sklearn.cluster import DBSCAN\n",
    "from sklearn.preprocessing import StandardScaler\n",
    "\n",
    "def dbscan(X, eps, min_samples):\n",
    "    ss = StandardScaler()\n",
    "    X = ss.fit_transform(X)\n",
    "    db = DBSCAN(eps=eps, min_samples=min_samples)\n",
    "    db.fit(X)\n",
    "    y_pred = db.fit_predict(X)\n",
    "    plt.scatter(X[:,0], X[:,1],c=y_pred, cmap='Paired')\n",
    "    plt.title(\"DBSCAN\")"
   ]
  },
  {
   "cell_type": "code",
   "execution_count": 22,
   "id": "582b0938",
   "metadata": {},
   "outputs": [
    {
     "data": {
      "image/png": "[encoded data removed]",
      "text/plain": [
       "<Figure size 432x288 with 1 Axes>"
      ]
     },
     "metadata": {
      "needs_background": "light"
     },
     "output_type": "display_data"
    }
   ],
   "source": [
    "dbscan(Ext_Ety, eps=1.7, min_samples=2)"
   ]
  },
  {
   "cell_type": "code",
   "execution_count": 23,
   "id": "bfaabc80",
   "metadata": {},
   "outputs": [
    {
     "data": {
      "image/png": "[encoded data removed]",
      "text/plain": [
       "<Figure size 432x288 with 1 Axes>"
      ]
     },
     "metadata": {
      "needs_background": "light"
     },
     "output_type": "display_data"
    }
   ],
   "source": [
    "dbscan(Ext_Gld, eps=1.7, min_samples=2)"
   ]
  },
  {
   "cell_type": "code",
   "execution_count": 24,
   "id": "5617a2e0",
   "metadata": {},
   "outputs": [
    {
     "data": {
      "image/png": "[encoded data removed]",
      "text/plain": [
       "<Figure size 432x288 with 1 Axes>"
      ]
     },
     "metadata": {
      "needs_background": "light"
     },
     "output_type": "display_data"
    }
   ],
   "source": [
    "dbscan(Ext_Btc, eps=1.7, min_samples=2)"
   ]
  },
  {
   "cell_type": "code",
   "execution_count": 25,
   "id": "68680027",
   "metadata": {},
   "outputs": [],
   "source": [
    "## From DBScans we can see that Equity and Bitcoins shows extreme values"
   ]
  },
  {
   "cell_type": "code",
   "execution_count": 26,
   "id": "8dcdb277",
   "metadata": {},
   "outputs": [
    {
     "data": {
      "image/png": "[encoded data removed]",
      "text/plain": [
       "<Figure size 1080x504 with 2 Axes>"
      ]
     },
     "metadata": {
      "needs_background": "light"
     },
     "output_type": "display_data"
    }
   ],
   "source": [
    "plt.figure(figsize=(15,7))\n",
    "plt.title('The returns of Equity and Bitcoin from April to December 2020')\n",
    "\n",
    "ax1 = ety_df[\"Day_Return\"].plot(color='blue', grid=True, label='Equity Returns')\n",
    "ax2 = btc_df[\"Day_Return\"].plot(color='red', grid=True, secondary_y=True, label='Bitcoin Returns ')\n",
    "\n",
    "h1, l1 = ax1.get_legend_handles_labels()\n",
    "h2, l2 = ax2.get_legend_handles_labels()\n",
    "\n",
    "ax1.set_ylabel('Equity Returns', color='b')\n",
    "ax2.set_ylabel('Bitcoin Returns', color='r')\n",
    "\n",
    "plt.legend(h1+h2, l1+l2, loc=2)\n",
    "plt.show()"
   ]
  },
  {
   "cell_type": "markdown",
   "id": "d35d750a",
   "metadata": {},
   "source": [
    "## Data Comparision using Non-Gaussian (Clayton) Copula"
   ]
  },
  {
   "cell_type": "code",
   "execution_count": 27,
   "id": "14918e87",
   "metadata": {},
   "outputs": [
    {
     "data": {
      "image/png": "[encoded data removed]",
      "text/plain": [
       "<Figure size 432x288 with 3 Axes>"
      ]
     },
     "metadata": {
      "needs_background": "light"
     },
     "output_type": "display_data"
    }
   ],
   "source": [
    "from copulalib.copulalib import Copula\n",
    "from array import array \n",
    "\n",
    "# Data and histograms\n",
    "def plotData():\n",
    "    x = (btc_df[\"Close\"]).fillna(0).values\n",
    "    y = (btc_df['Day_Return']).fillna(0).values\n",
    "    fig = plt.figure()\n",
    "    fig.add_subplot(2,2,1)\n",
    "    plt.hist(x,bins=20,color='green',alpha=0.8,align='mid')\n",
    "    plt.title('X variable distribution')\n",
    "    fig.add_subplot(2,2,3)\n",
    "    plt.scatter(x,y,marker=\"o\",alpha=0.8)\n",
    "    fig.add_subplot(2,2,4)\n",
    "    plt.title('Joint X,Y')\n",
    "    plt.hist(y,bins=20,orientation='horizontal',color='red',alpha=0.8,align='mid')\n",
    "    plt.title('Y variable distribution')    \n",
    "    plt.show()\n",
    "    \n",
    "def generateCopulas():\n",
    "    x = array((btc_df[\"Close\"]).fillna(0).values.tolist())\n",
    "    y = array((btc_df['Day_Return']).fillna(0).values.tolist())\n",
    "    fig = plt.figure()\n",
    "    \n",
    "    clayton = Copula(x,y,family='clayton')\n",
    "    uc,vc = clayton.generate_uv(1000)\n",
    "    fig.add_subplot(2,2,2)\n",
    "    plt.scatter(uc,vc,marker='.',color='red')\n",
    "    plt.ylim(0,1)\n",
    "    plt.xlim(0,1)\n",
    "    plt.title('Clayton copula')\n",
    "    plt.show()\n",
    "    \n",
    "\n",
    "plotData();"
   ]
  },
  {
   "cell_type": "code",
   "execution_count": 28,
   "id": "b4a72619",
   "metadata": {},
   "outputs": [
    {
     "data": {
      "image/png": "[encoded data removed]",
      "text/plain": [
       "<Figure size 432x288 with 3 Axes>"
      ]
     },
     "metadata": {
      "needs_background": "light"
     },
     "output_type": "display_data"
    }
   ],
   "source": [
    "def plotData():\n",
    "    x = (ety_df[\"Close\"]).fillna(0).values\n",
    "    y = (ety_df['Day_Return']).fillna(0).values\n",
    "    fig = plt.figure()\n",
    "    fig.add_subplot(2,2,1)\n",
    "    plt.hist(x,bins=20,color='green',alpha=0.8,align='mid')\n",
    "    plt.title('X variable distribution')\n",
    "    fig.add_subplot(2,2,3)\n",
    "    plt.scatter(x,y,marker=\"o\",alpha=0.8)\n",
    "    fig.add_subplot(2,2,4)\n",
    "    plt.title('Joint X,Y')\n",
    "    plt.hist(y,bins=20,orientation='horizontal',color='red',alpha=0.8,align='mid')\n",
    "    plt.title('Y variable distribution')    \n",
    "    plt.show()\n",
    "    \n",
    "def generateCopulas():\n",
    "    x = array((ety_df[\"Close\"]).fillna(0).values.tolist())\n",
    "    y = array((ety_df['Day_Return']).fillna(0).values.tolist())\n",
    "    fig = plt.figure()\n",
    "    \n",
    "    clayton = Copula(x,y,family='clayton')\n",
    "    uc,vc = clayton.generate_uv(1000)\n",
    "    fig.add_subplot(2,2,2)\n",
    "    plt.scatter(uc,vc,marker='.',color='red')\n",
    "    plt.ylim(0,1)\n",
    "    plt.xlim(0,1)\n",
    "    plt.title('Clayton copula')\n",
    "    plt.show()\n",
    "    \n",
    "\n",
    "plotData();"
   ]
  },
  {
   "cell_type": "markdown",
   "id": "fd3da320",
   "metadata": {},
   "source": [
    "## Category 1 Models: ARMA(2,2), GARCH(1,1)"
   ]
  },
  {
   "cell_type": "code",
   "execution_count": 29,
   "id": "0d38a115",
   "metadata": {},
   "outputs": [],
   "source": [
    "# For choosing quarterly data\n",
    "def get_data(df, quarter, column):\n",
    "    if quarter == 'Q4':\n",
    "        return df[(df.index > \"2020-09-30\")][column]\n",
    "    elif quarter == 'Q3':\n",
    "        return df.loc[(df.index > \"2020-06-30\") & (df.index < \"2020-10-01\")][column]\n",
    "    elif quarter == 'Q2':\n",
    "        return df[(df.index > \"2020-03-31\") & (df.index < \"2020-07-01\")][column]"
   ]
  },
  {
   "cell_type": "code",
   "execution_count": 30,
   "id": "77d5d17b",
   "metadata": {},
   "outputs": [],
   "source": [
    "# we choose ety_df \n",
    "ety_Q2 = get_data(ety_df, \"Q2\", \"Day_Return\")\n",
    "ety_Q3 = get_data(ety_df, \"Q3\", \"Day_Return\")\n",
    "ety_Q4 = get_data(ety_df, \"Q4\", \"Day_Return\")"
   ]
  },
  {
   "cell_type": "code",
   "execution_count": 31,
   "id": "319521fd",
   "metadata": {},
   "outputs": [],
   "source": [
    "# we choose ety_df \n",
    "btc_Q2 = get_data(btc_df, \"Q2\", \"Day_Return\")\n",
    "btc_Q3 = get_data(btc_df, \"Q3\", \"Day_Return\")\n",
    "btc_Q4 = get_data(btc_df, \"Q4\", \"Day_Return\")"
   ]
  },
  {
   "cell_type": "code",
   "execution_count": 32,
   "id": "202db686",
   "metadata": {},
   "outputs": [],
   "source": [
    "gld_Q2 = get_data(gld_df, \"Q2\", \"Day_Return\")\n",
    "gld_Q3 = get_data(gld_df, \"Q3\", \"Day_Return\")\n",
    "gld_Q4 = get_data(gld_df, \"Q4\", \"Day_Return\")"
   ]
  },
  {
   "cell_type": "code",
   "execution_count": 37,
   "id": "6ba3c12e",
   "metadata": {},
   "outputs": [
    {
     "name": "stdout",
     "output_type": "stream",
     "text": [
      "Equity Q2 mean log-return is: 0.0009371832203837446\n",
      "Equity Q3 mean log-return is: -0.000597093072560425\n",
      "Equity Q4 mean log-return is: 0.002368846480934895\n"
     ]
    }
   ],
   "source": [
    "import statistics\n",
    "print(\"Equity Q2 mean log-return is:\", statistics.mean(ety_Q2))\n",
    "print(\"Equity Q3 mean log-return is:\", statistics.mean(ety_Q3))\n",
    "print(\"Equity Q4 mean log-return is:\", statistics.mean(ety_Q4))"
   ]
  },
  {
   "cell_type": "code",
   "execution_count": 38,
   "id": "779a52a0",
   "metadata": {},
   "outputs": [
    {
     "name": "stdout",
     "output_type": "stream",
     "text": [
      "Bitcoin Q2 mean log-return is: 0.005636138568787838\n",
      "Bitcoin Q3 mean log-return is: 0.0026342573822663753\n",
      "Bitcoin Q4 mean log-return is: 0.01666775170252626\n"
     ]
    }
   ],
   "source": [
    "print(\"Bitcoin Q2 mean log-return is:\", statistics.mean(btc_Q2))\n",
    "print(\"Bitcoin Q3 mean log-return is:\", statistics.mean(btc_Q3))\n",
    "print(\"Bitcoin Q4 mean log-return is:\", statistics.mean(btc_Q4))"
   ]
  },
  {
   "cell_type": "code",
   "execution_count": 39,
   "id": "892087af",
   "metadata": {},
   "outputs": [
    {
     "name": "stdout",
     "output_type": "stream",
     "text": [
      "Gold Q2 mean log-return is: 0.0019357100384906367\n",
      "Gold Q3 mean log-return is: 0.0008987387314168692\n",
      "Gold Q4 mean log-return is: 5.5411483853268685e-05\n"
     ]
    }
   ],
   "source": [
    "print(\"Gold Q2 mean log-return is:\", statistics.mean(gld_Q2))\n",
    "print(\"Gold Q3 mean log-return is:\", statistics.mean(gld_Q3))\n",
    "print(\"Gold Q4 mean log-return is:\", statistics.mean(gld_Q4))"
   ]
  },
  {
   "cell_type": "code",
   "execution_count": 40,
   "id": "49c86512",
   "metadata": {},
   "outputs": [],
   "source": [
    "#fitting ARMA(2,2) model\n",
    "def fit_arima(data, exog= None):\n",
    "    model = ARIMA(data, exog=exog, order=(2,0,2))\n",
    "    model_fit = model.fit()\n",
    "    return model_fit"
   ]
  },
  {
   "cell_type": "code",
   "execution_count": 41,
   "id": "729973b5",
   "metadata": {},
   "outputs": [],
   "source": [
    "def fit_garch(data, garch_type=\"GARCH\"):\n",
    "    if garch_type == \"TARCH\":\n",
    "        garch = arch.arch_model(data, vol='TGARCH', p=1, o=1, q=1, power=1)\n",
    "    else:\n",
    "        garch = arch.arch_model(data, vol=garch_type, p=1, o=0, q=1)\n",
    "    garch_fitted = garch.fit()\n",
    "    print(garch_fitted.summary())\n",
    "    if garch_type != \"FIGARCH\":\n",
    "        omega = garch_fitted.params[\"omega\"]\n",
    "        alpha = garch_fitted.params[\"alpha[1]\"]\n",
    "        beta = garch_fitted.params[\"beta[1]\"]\n",
    "        print(f\"Unconditional variance: {omega/(1 - alpha - beta)}\")\n",
    "    return garch_fitted"
   ]
  },
  {
   "cell_type": "code",
   "execution_count": 42,
   "id": "a1890c66",
   "metadata": {},
   "outputs": [],
   "source": [
    "quarter_name = {\"Q2\": \"Quarter 2\", \"Q3\": \"Quarter 3\", \"Q4\": \"Quarter 4\"}"
   ]
  },
  {
   "cell_type": "code",
   "execution_count": 43,
   "id": "422c2e15",
   "metadata": {},
   "outputs": [
    {
     "data": {
      "text/plain": [
       "((59,), (63,), (59,))"
      ]
     },
     "execution_count": 43,
     "metadata": {},
     "output_type": "execute_result"
    }
   ],
   "source": [
    "btc_Q2.shape, btc_Q3.shape, btc_Q4.shape"
   ]
  },
  {
   "cell_type": "code",
   "execution_count": 44,
   "id": "9acf964a",
   "metadata": {},
   "outputs": [
    {
     "name": "stderr",
     "output_type": "stream",
     "text": [
      "C:\\Users\\Admin\\anaconda3\\lib\\site-packages\\statsmodels\\tsa\\base\\tsa_model.py:581: ValueWarning: A date index has been provided, but it has no associated frequency information and so will be ignored when e.g. forecasting.\n",
      "  warnings.warn('A date index has been provided, but it has no'\n",
      "C:\\Users\\Admin\\anaconda3\\lib\\site-packages\\statsmodels\\tsa\\base\\tsa_model.py:581: ValueWarning: A date index has been provided, but it has no associated frequency information and so will be ignored when e.g. forecasting.\n",
      "  warnings.warn('A date index has been provided, but it has no'\n",
      "C:\\Users\\Admin\\anaconda3\\lib\\site-packages\\statsmodels\\tsa\\base\\tsa_model.py:581: ValueWarning: A date index has been provided, but it has no associated frequency information and so will be ignored when e.g. forecasting.\n",
      "  warnings.warn('A date index has been provided, but it has no'\n",
      "C:\\Users\\Admin\\anaconda3\\lib\\site-packages\\statsmodels\\tsa\\statespace\\sarimax.py:966: UserWarning: Non-stationary starting autoregressive parameters found. Using zeros as starting parameters.\n",
      "  warn('Non-stationary starting autoregressive parameters'\n",
      "C:\\Users\\Admin\\anaconda3\\lib\\site-packages\\statsmodels\\tsa\\statespace\\sarimax.py:978: UserWarning: Non-invertible starting MA parameters found. Using zeros as starting parameters.\n",
      "  warn('Non-invertible starting MA parameters found.'\n",
      "C:\\Users\\Admin\\anaconda3\\lib\\site-packages\\statsmodels\\base\\model.py:566: ConvergenceWarning: Maximum Likelihood optimization failed to converge. Check mle_retvals\n",
      "  warnings.warn(\"Maximum Likelihood optimization failed to \"\n",
      "C:\\Users\\Admin\\anaconda3\\lib\\site-packages\\statsmodels\\tsa\\base\\tsa_model.py:376: ValueWarning: No supported index is available. Prediction results will be given with an integer index beginning at `start`.\n",
      "  warnings.warn('No supported index is available.'\n"
     ]
    },
    {
     "data": {
      "text/plain": [
       "-0.13022074900191116"
      ]
     },
     "execution_count": 44,
     "metadata": {},
     "output_type": "execute_result"
    }
   ],
   "source": [
    "model = fit_arima(ety_Q2)\n",
    "return_pred = model.predict(start=ety_Q2.shape[0], end=ety_Q2.shape[0] + ety_Q3.shape[0] - 1).values\n",
    "signal = np.where(return_pred > 0, 1, -1)\n",
    "return_Q3 = np.product(ety_Q3 * signal + 1) - 1\n",
    "return_Q3"
   ]
  },
  {
   "cell_type": "code",
   "execution_count": 45,
   "id": "5f074ec5",
   "metadata": {},
   "outputs": [
    {
     "name": "stderr",
     "output_type": "stream",
     "text": [
      "C:\\Users\\Admin\\anaconda3\\lib\\site-packages\\statsmodels\\tsa\\base\\tsa_model.py:581: ValueWarning: A date index has been provided, but it has no associated frequency information and so will be ignored when e.g. forecasting.\n",
      "  warnings.warn('A date index has been provided, but it has no'\n",
      "C:\\Users\\Admin\\anaconda3\\lib\\site-packages\\statsmodels\\tsa\\base\\tsa_model.py:581: ValueWarning: A date index has been provided, but it has no associated frequency information and so will be ignored when e.g. forecasting.\n",
      "  warnings.warn('A date index has been provided, but it has no'\n",
      "C:\\Users\\Admin\\anaconda3\\lib\\site-packages\\statsmodels\\tsa\\base\\tsa_model.py:581: ValueWarning: A date index has been provided, but it has no associated frequency information and so will be ignored when e.g. forecasting.\n",
      "  warnings.warn('A date index has been provided, but it has no'\n",
      "C:\\Users\\Admin\\anaconda3\\lib\\site-packages\\statsmodels\\tsa\\base\\tsa_model.py:376: ValueWarning: No supported index is available. Prediction results will be given with an integer index beginning at `start`.\n",
      "  warnings.warn('No supported index is available.'\n"
     ]
    },
    {
     "data": {
      "text/plain": [
       "-0.13285807833627228"
      ]
     },
     "execution_count": 45,
     "metadata": {},
     "output_type": "execute_result"
    }
   ],
   "source": [
    "model = fit_arima(ety_Q3)\n",
    "return_pred = model.predict(start=ety_Q3.shape[0], end=ety_Q3.shape[0] + ety_Q4.shape[0] - 1).values\n",
    "signal = np.where(return_pred >0, 1, -1)\n",
    "return_Q4 = np.product(ety_Q4 * signal + 1) - 1\n",
    "return_Q4"
   ]
  },
  {
   "cell_type": "code",
   "execution_count": 46,
   "id": "092731bd",
   "metadata": {},
   "outputs": [
    {
     "data": {
      "text/plain": [
       "-0.24577794886627946"
      ]
     },
     "execution_count": 46,
     "metadata": {},
     "output_type": "execute_result"
    }
   ],
   "source": [
    "(1 + return_Q3) * (1 + return_Q4) - 1"
   ]
  },
  {
   "cell_type": "code",
   "execution_count": 47,
   "id": "e4752db3",
   "metadata": {},
   "outputs": [
    {
     "name": "stderr",
     "output_type": "stream",
     "text": [
      "C:\\Users\\Admin\\anaconda3\\lib\\site-packages\\statsmodels\\tsa\\base\\tsa_model.py:581: ValueWarning: A date index has been provided, but it has no associated frequency information and so will be ignored when e.g. forecasting.\n",
      "  warnings.warn('A date index has been provided, but it has no'\n",
      "C:\\Users\\Admin\\anaconda3\\lib\\site-packages\\statsmodels\\tsa\\base\\tsa_model.py:581: ValueWarning: A date index has been provided, but it has no associated frequency information and so will be ignored when e.g. forecasting.\n",
      "  warnings.warn('A date index has been provided, but it has no'\n",
      "C:\\Users\\Admin\\anaconda3\\lib\\site-packages\\statsmodels\\tsa\\base\\tsa_model.py:581: ValueWarning: A date index has been provided, but it has no associated frequency information and so will be ignored when e.g. forecasting.\n",
      "  warnings.warn('A date index has been provided, but it has no'\n",
      "C:\\Users\\Admin\\anaconda3\\lib\\site-packages\\statsmodels\\base\\model.py:566: ConvergenceWarning: Maximum Likelihood optimization failed to converge. Check mle_retvals\n",
      "  warnings.warn(\"Maximum Likelihood optimization failed to \"\n",
      "C:\\Users\\Admin\\anaconda3\\lib\\site-packages\\statsmodels\\tsa\\base\\tsa_model.py:376: ValueWarning: No supported index is available. Prediction results will be given with an integer index beginning at `start`.\n",
      "  warnings.warn('No supported index is available.'\n"
     ]
    },
    {
     "data": {
      "text/plain": [
       "0.14748531812391286"
      ]
     },
     "execution_count": 47,
     "metadata": {},
     "output_type": "execute_result"
    }
   ],
   "source": [
    "model = fit_arima(btc_Q2)\n",
    "return_pred = model.predict(start=btc_Q2.shape[0], end=btc_Q2.shape[0] + btc_Q3.shape[0] - 1).values\n",
    "signal = np.where(return_pred > 0, 1, -1)\n",
    "return_Q3 = np.product(btc_Q3 * signal + 1) - 1\n",
    "return_Q3"
   ]
  },
  {
   "cell_type": "code",
   "execution_count": 48,
   "id": "9170fc65",
   "metadata": {},
   "outputs": [
    {
     "name": "stderr",
     "output_type": "stream",
     "text": [
      "C:\\Users\\Admin\\anaconda3\\lib\\site-packages\\statsmodels\\tsa\\base\\tsa_model.py:581: ValueWarning: A date index has been provided, but it has no associated frequency information and so will be ignored when e.g. forecasting.\n",
      "  warnings.warn('A date index has been provided, but it has no'\n",
      "C:\\Users\\Admin\\anaconda3\\lib\\site-packages\\statsmodels\\tsa\\base\\tsa_model.py:581: ValueWarning: A date index has been provided, but it has no associated frequency information and so will be ignored when e.g. forecasting.\n",
      "  warnings.warn('A date index has been provided, but it has no'\n",
      "C:\\Users\\Admin\\anaconda3\\lib\\site-packages\\statsmodels\\tsa\\base\\tsa_model.py:581: ValueWarning: A date index has been provided, but it has no associated frequency information and so will be ignored when e.g. forecasting.\n",
      "  warnings.warn('A date index has been provided, but it has no'\n",
      "C:\\Users\\Admin\\anaconda3\\lib\\site-packages\\statsmodels\\base\\model.py:566: ConvergenceWarning: Maximum Likelihood optimization failed to converge. Check mle_retvals\n",
      "  warnings.warn(\"Maximum Likelihood optimization failed to \"\n",
      "C:\\Users\\Admin\\anaconda3\\lib\\site-packages\\statsmodels\\tsa\\base\\tsa_model.py:376: ValueWarning: No supported index is available. Prediction results will be given with an integer index beginning at `start`.\n",
      "  warnings.warn('No supported index is available.'\n"
     ]
    },
    {
     "data": {
      "text/plain": [
       "1.5226854752330712"
      ]
     },
     "execution_count": 48,
     "metadata": {},
     "output_type": "execute_result"
    }
   ],
   "source": [
    "model = fit_arima(btc_Q3)\n",
    "return_pred = model.predict(start=btc_Q3.shape[0], end=btc_Q3.shape[0] + btc_Q4.shape[0] - 1).values\n",
    "signal = np.where(return_pred >0, 1, -1)\n",
    "return_Q4 = np.product(btc_Q4 * signal + 1) - 1\n",
    "return_Q4"
   ]
  },
  {
   "cell_type": "code",
   "execution_count": 49,
   "id": "19cb7ada",
   "metadata": {},
   "outputs": [
    {
     "data": {
      "text/plain": [
       "1.8947445450743952"
      ]
     },
     "execution_count": 49,
     "metadata": {},
     "output_type": "execute_result"
    }
   ],
   "source": [
    "(1 + return_Q3) * (1 + return_Q4) - 1"
   ]
  },
  {
   "cell_type": "code",
   "execution_count": 50,
   "id": "b74f572d",
   "metadata": {},
   "outputs": [
    {
     "name": "stdout",
     "output_type": "stream",
     "text": [
      "Iteration:      1,   Func. Count:      6,   Neg. LLF: 2057.6894633051816\n",
      "Iteration:      2,   Func. Count:     15,   Neg. LLF: 8364.327879690207\n",
      "Iteration:      3,   Func. Count:     21,   Neg. LLF: 20254593.382006835\n",
      "Iteration:      4,   Func. Count:     27,   Neg. LLF: -44.53640566040372\n",
      "Iteration:      5,   Func. Count:     33,   Neg. LLF: -59.73568975559939\n",
      "Iteration:      6,   Func. Count:     39,   Neg. LLF: 46.90515426694333\n",
      "Iteration:      7,   Func. Count:     45,   Neg. LLF: -70.12895904377423\n",
      "Iteration:      8,   Func. Count:     50,   Neg. LLF: -69.67183613606363\n",
      "Iteration:      9,   Func. Count:     56,   Neg. LLF: -70.57625688734657\n",
      "Iteration:     10,   Func. Count:     62,   Neg. LLF: -70.71535287369464\n",
      "Iteration:     11,   Func. Count:     67,   Neg. LLF: -70.71538292495688\n",
      "Iteration:     12,   Func. Count:     72,   Neg. LLF: 974.9001905728838\n",
      "Optimization terminated successfully    (Exit mode 0)\n",
      "            Current function value: -70.71538300230992\n",
      "            Iterations: 13\n",
      "            Function evaluations: 77\n",
      "            Gradient evaluations: 12\n",
      "                     Constant Mean - GARCH Model Results                      \n",
      "==============================================================================\n",
      "Dep. Variable:             Day_Return   R-squared:                       0.000\n",
      "Mean Model:             Constant Mean   Adj. R-squared:                  0.000\n",
      "Vol Model:                      GARCH   Log-Likelihood:                70.7154\n",
      "Distribution:                  Normal   AIC:                          -133.431\n",
      "Method:            Maximum Likelihood   BIC:                          -125.121\n",
      "                                        No. Observations:                   59\n",
      "Date:                Mon, Oct 25 2021   Df Residuals:                       58\n",
      "Time:                        19:15:21   Df Model:                            1\n",
      "                                  Mean Model                                  \n",
      "==============================================================================\n",
      "                  coef    std err          t      P>|t|       95.0% Conf. Int.\n",
      "------------------------------------------------------------------------------\n",
      "mu         -3.1030e-03  1.124e-02     -0.276      0.782 [-2.513e-02,1.892e-02]\n",
      "                              Volatility Model                              \n",
      "============================================================================\n",
      "                 coef    std err          t      P>|t|      95.0% Conf. Int.\n",
      "----------------------------------------------------------------------------\n",
      "omega      2.4470e-03  1.010e-03      2.422  1.545e-02 [4.664e-04,4.428e-03]\n",
      "alpha[1]       1.0000      0.855      1.170      0.242     [ -0.675,  2.675]\n",
      "beta[1]        0.0000  5.208e-02      0.000      1.000     [ -0.102,  0.102]\n",
      "============================================================================\n",
      "\n",
      "Covariance estimator: robust\n",
      "Unconditional variance: 3926.5810946065044\n"
     ]
    },
    {
     "name": "stderr",
     "output_type": "stream",
     "text": [
      "C:\\Users\\Admin\\anaconda3\\lib\\site-packages\\arch\\univariate\\base.py:309: DataScaleWarning: y is poorly scaled, which may affect convergence of the optimizer when\n",
      "estimating the model parameters. The scale of y is 0.01169. Parameter\n",
      "estimation work better when this value is between 1 and 1000. The recommended\n",
      "rescaling is 10 * y.\n",
      "\n",
      "This warning can be disabled by either rescaling y before initializing the\n",
      "model or by setting rescale=False.\n",
      "\n",
      "  warnings.warn(\n"
     ]
    }
   ],
   "source": [
    "# Fitting Garch Model\n",
    "data = btc_Q2\n",
    "data = data.dropna()\n",
    "garch_fitted = fit_garch(data, \"GARCH\")\n",
    "forecasts = garch_fitted.forecast(horizon=63, reindex=False)\n",
    "#forecasts = garch_fitted.forecast(horizon=63, method='simulation', simulations=1000)"
   ]
  },
  {
   "cell_type": "code",
   "execution_count": 51,
   "id": "f3164c16",
   "metadata": {},
   "outputs": [
    {
     "name": "stdout",
     "output_type": "stream",
     "text": [
      "                h.01      h.02      h.03      h.04      h.05      h.06  \\\n",
      "Date                                                                     \n",
      "2020-06-30  0.002454  0.004901  0.007348  0.009795  0.012242  0.014689   \n",
      "\n",
      "                h.07      h.08     h.09      h.10  ...      h.54      h.55  \\\n",
      "Date                                               ...                       \n",
      "2020-06-30  0.017136  0.019583  0.02203  0.024477  ...  0.132142  0.134588   \n",
      "\n",
      "                h.56      h.57      h.58      h.59      h.60     h.61  \\\n",
      "Date                                                                    \n",
      "2020-06-30  0.137035  0.139482  0.141929  0.144376  0.146823  0.14927   \n",
      "\n",
      "                h.62      h.63  \n",
      "Date                            \n",
      "2020-06-30  0.151717  0.154164  \n",
      "\n",
      "[1 rows x 63 columns]\n"
     ]
    }
   ],
   "source": [
    "print(forecasts.residual_variance.iloc[-3:])"
   ]
  },
  {
   "cell_type": "code",
   "execution_count": 52,
   "id": "b6a8b031",
   "metadata": {},
   "outputs": [
    {
     "name": "stdout",
     "output_type": "stream",
     "text": [
      "Iteration:      1,   Func. Count:      6,   Neg. LLF: 25325.586035561137\n",
      "Iteration:      2,   Func. Count:     16,   Neg. LLF: 10.723682639044778\n",
      "Iteration:      3,   Func. Count:     24,   Neg. LLF: -131.27836997286798\n",
      "Iteration:      4,   Func. Count:     29,   Neg. LLF: -131.29715303352035\n",
      "Iteration:      5,   Func. Count:     34,   Neg. LLF: -126.35759438743713\n",
      "Iteration:      6,   Func. Count:     40,   Neg. LLF: -127.11990861763533\n",
      "Iteration:      7,   Func. Count:     46,   Neg. LLF: -127.63388495825697\n",
      "Iteration:      8,   Func. Count:     52,   Neg. LLF: -131.5020495960298\n",
      "Iteration:      9,   Func. Count:     57,   Neg. LLF: -130.67514405167256\n",
      "Iteration:     10,   Func. Count:     63,   Neg. LLF: -131.48236881747272\n",
      "Iteration:     11,   Func. Count:     69,   Neg. LLF: -130.45388038924204\n",
      "Iteration:     12,   Func. Count:     75,   Neg. LLF: -131.62590047008075\n",
      "Iteration:     13,   Func. Count:     81,   Neg. LLF: -131.63136319092612\n",
      "Iteration:     14,   Func. Count:     87,   Neg. LLF: -131.6394951207766\n",
      "Iteration:     15,   Func. Count:     92,   Neg. LLF: -131.63951593875302\n",
      "Iteration:     16,   Func. Count:     96,   Neg. LLF: -131.63951593872633\n",
      "Optimization terminated successfully    (Exit mode 0)\n",
      "            Current function value: -131.63951593875302\n",
      "            Iterations: 16\n",
      "            Function evaluations: 96\n",
      "            Gradient evaluations: 16\n",
      "                     Constant Mean - GARCH Model Results                      \n",
      "==============================================================================\n",
      "Dep. Variable:             Day_Return   R-squared:                       0.000\n",
      "Mean Model:             Constant Mean   Adj. R-squared:                  0.000\n",
      "Vol Model:                      GARCH   Log-Likelihood:                131.640\n",
      "Distribution:                  Normal   AIC:                          -255.279\n",
      "Method:            Maximum Likelihood   BIC:                          -246.706\n",
      "                                        No. Observations:                   63\n",
      "Date:                Mon, Oct 25 2021   Df Residuals:                       62\n",
      "Time:                        19:15:34   Df Model:                            1\n",
      "                                  Mean Model                                 \n",
      "=============================================================================\n",
      "                 coef    std err          t      P>|t|       95.0% Conf. Int.\n",
      "-----------------------------------------------------------------------------\n",
      "mu         2.7397e-03  3.919e-03      0.699      0.484 [-4.941e-03,1.042e-02]\n",
      "                               Volatility Model                              \n",
      "=============================================================================\n",
      "                 coef    std err          t      P>|t|       95.0% Conf. Int.\n",
      "-----------------------------------------------------------------------------\n",
      "omega      8.8890e-05  5.709e-05      1.557      0.119 [-2.301e-05,2.008e-04]\n",
      "alpha[1]   1.9442e-10  2.225e-02  8.740e-09      1.000 [-4.360e-02,4.360e-02]\n",
      "beta[1]        0.9092  6.923e-02     13.132  2.148e-39      [  0.773,  1.045]\n",
      "=============================================================================\n",
      "\n",
      "Covariance estimator: robust\n",
      "Unconditional variance: 0.0009788965592773611\n"
     ]
    },
    {
     "name": "stderr",
     "output_type": "stream",
     "text": [
      "C:\\Users\\Admin\\anaconda3\\lib\\site-packages\\arch\\univariate\\base.py:309: DataScaleWarning: y is poorly scaled, which may affect convergence of the optimizer when\n",
      "estimating the model parameters. The scale of y is 0.0009069. Parameter\n",
      "estimation work better when this value is between 1 and 1000. The recommended\n",
      "rescaling is 100 * y.\n",
      "\n",
      "This warning can be disabled by either rescaling y before initializing the\n",
      "model or by setting rescale=False.\n",
      "\n",
      "  warnings.warn(\n"
     ]
    }
   ],
   "source": [
    "data = btc_Q3\n",
    "data = data.dropna()\n",
    "garch_fitted = fit_garch(data, \"GARCH\")\n",
    "forecasts = garch_fitted.forecast(horizon=59, reindex=False)"
   ]
  },
  {
   "cell_type": "code",
   "execution_count": 53,
   "id": "fac9538c",
   "metadata": {},
   "outputs": [
    {
     "name": "stdout",
     "output_type": "stream",
     "text": [
      "                h.01      h.02      h.03      h.04      h.05      h.06  \\\n",
      "Date                                                                     \n",
      "2020-09-30  0.000978  0.000978  0.000978  0.000979  0.000979  0.000979   \n",
      "\n",
      "                h.07      h.08      h.09      h.10  ...      h.50      h.51  \\\n",
      "Date                                                ...                       \n",
      "2020-09-30  0.000979  0.000979  0.000979  0.000979  ...  0.000979  0.000979   \n",
      "\n",
      "                h.52      h.53      h.54      h.55      h.56      h.57  \\\n",
      "Date                                                                     \n",
      "2020-09-30  0.000979  0.000979  0.000979  0.000979  0.000979  0.000979   \n",
      "\n",
      "                h.58      h.59  \n",
      "Date                            \n",
      "2020-09-30  0.000979  0.000979  \n",
      "\n",
      "[1 rows x 59 columns]\n"
     ]
    }
   ],
   "source": [
    "print(forecasts.residual_variance.iloc[-3:])"
   ]
  },
  {
   "cell_type": "markdown",
   "id": "99328f38",
   "metadata": {},
   "source": [
    "## Category 2 Models: VECM, GARCH and CoIntegration"
   ]
  },
  {
   "cell_type": "code",
   "execution_count": 54,
   "id": "0b62b99e",
   "metadata": {},
   "outputs": [
    {
     "name": "stderr",
     "output_type": "stream",
     "text": [
      "C:\\Users\\Admin\\anaconda3\\lib\\site-packages\\statsmodels\\tsa\\base\\tsa_model.py:581: ValueWarning: A date index has been provided, but it has no associated frequency information and so will be ignored when e.g. forecasting.\n",
      "  warnings.warn('A date index has been provided, but it has no'\n",
      "C:\\Users\\Admin\\anaconda3\\lib\\site-packages\\statsmodels\\tsa\\base\\tsa_model.py:581: ValueWarning: A date index has been provided, but it has no associated frequency information and so will be ignored when e.g. forecasting.\n",
      "  warnings.warn('A date index has been provided, but it has no'\n",
      "C:\\Users\\Admin\\anaconda3\\lib\\site-packages\\statsmodels\\tsa\\base\\tsa_model.py:581: ValueWarning: A date index has been provided, but it has no associated frequency information and so will be ignored when e.g. forecasting.\n",
      "  warnings.warn('A date index has been provided, but it has no'\n",
      "C:\\Users\\Admin\\anaconda3\\lib\\site-packages\\statsmodels\\base\\model.py:566: ConvergenceWarning: Maximum Likelihood optimization failed to converge. Check mle_retvals\n",
      "  warnings.warn(\"Maximum Likelihood optimization failed to \"\n",
      "C:\\Users\\Admin\\anaconda3\\lib\\site-packages\\statsmodels\\tsa\\base\\tsa_model.py:376: ValueWarning: No supported index is available. Prediction results will be given with an integer index beginning at `start`.\n",
      "  warnings.warn('No supported index is available.'\n"
     ]
    },
    {
     "data": {
      "text/plain": [
       "0.09974798968709386"
      ]
     },
     "execution_count": 54,
     "metadata": {},
     "output_type": "execute_result"
    }
   ],
   "source": [
    "# Using 2 models\n",
    "\n",
    "model = fit_arima(btc_Q2, ety_Q2)\n",
    "return_pred = model.predict(exog=ety_Q3, start=btc_Q2.shape[0], end=btc_Q2.shape[0] + btc_Q3.shape[0] - 1).values\n",
    "signal = np.where(return_pred > 0, 1, -1)\n",
    "return_Q3 = np.product(btc_Q3 * signal + 1) - 1\n",
    "return_Q3"
   ]
  },
  {
   "cell_type": "code",
   "execution_count": 55,
   "id": "74fcd8b1",
   "metadata": {},
   "outputs": [
    {
     "name": "stderr",
     "output_type": "stream",
     "text": [
      "C:\\Users\\Admin\\anaconda3\\lib\\site-packages\\statsmodels\\tsa\\base\\tsa_model.py:581: ValueWarning: A date index has been provided, but it has no associated frequency information and so will be ignored when e.g. forecasting.\n",
      "  warnings.warn('A date index has been provided, but it has no'\n",
      "C:\\Users\\Admin\\anaconda3\\lib\\site-packages\\statsmodels\\tsa\\base\\tsa_model.py:581: ValueWarning: A date index has been provided, but it has no associated frequency information and so will be ignored when e.g. forecasting.\n",
      "  warnings.warn('A date index has been provided, but it has no'\n",
      "C:\\Users\\Admin\\anaconda3\\lib\\site-packages\\statsmodels\\tsa\\base\\tsa_model.py:581: ValueWarning: A date index has been provided, but it has no associated frequency information and so will be ignored when e.g. forecasting.\n",
      "  warnings.warn('A date index has been provided, but it has no'\n",
      "C:\\Users\\Admin\\anaconda3\\lib\\site-packages\\statsmodels\\tsa\\base\\tsa_model.py:376: ValueWarning: No supported index is available. Prediction results will be given with an integer index beginning at `start`.\n",
      "  warnings.warn('No supported index is available.'\n"
     ]
    },
    {
     "data": {
      "text/plain": [
       "0.8615922366885527"
      ]
     },
     "execution_count": 55,
     "metadata": {},
     "output_type": "execute_result"
    }
   ],
   "source": [
    "model = fit_arima(btc_Q3, ety_Q3)\n",
    "return_pred = model.predict(exog=ety_Q4, start=btc_Q3.shape[0], end=btc_Q3.shape[0] + btc_Q4.shape[0] - 1).values\n",
    "signal = np.where(return_pred > 0, 1, -1)\n",
    "return_Q4 = np.product(btc_Q4 * signal + 1) - 1\n",
    "return_Q4"
   ]
  },
  {
   "cell_type": "code",
   "execution_count": 56,
   "id": "1f71fdbc",
   "metadata": {},
   "outputs": [
    {
     "data": {
      "text/plain": [
       "1.0472823199153365"
      ]
     },
     "execution_count": 56,
     "metadata": {},
     "output_type": "execute_result"
    }
   ],
   "source": [
    "(1 + return_Q3) * (1 + return_Q4) - 1"
   ]
  },
  {
   "cell_type": "code",
   "execution_count": 57,
   "id": "4e069720",
   "metadata": {},
   "outputs": [
    {
     "name": "stderr",
     "output_type": "stream",
     "text": [
      "C:\\Users\\Admin\\anaconda3\\lib\\site-packages\\statsmodels\\tsa\\base\\tsa_model.py:581: ValueWarning: A date index has been provided, but it has no associated frequency information and so will be ignored when e.g. forecasting.\n",
      "  warnings.warn('A date index has been provided, but it has no'\n",
      "C:\\Users\\Admin\\anaconda3\\lib\\site-packages\\statsmodels\\tsa\\base\\tsa_model.py:581: ValueWarning: A date index has been provided, but it has no associated frequency information and so will be ignored when e.g. forecasting.\n",
      "  warnings.warn('A date index has been provided, but it has no'\n",
      "C:\\Users\\Admin\\anaconda3\\lib\\site-packages\\statsmodels\\tsa\\base\\tsa_model.py:581: ValueWarning: A date index has been provided, but it has no associated frequency information and so will be ignored when e.g. forecasting.\n",
      "  warnings.warn('A date index has been provided, but it has no'\n",
      "C:\\Users\\Admin\\anaconda3\\lib\\site-packages\\statsmodels\\base\\model.py:566: ConvergenceWarning: Maximum Likelihood optimization failed to converge. Check mle_retvals\n",
      "  warnings.warn(\"Maximum Likelihood optimization failed to \"\n",
      "C:\\Users\\Admin\\anaconda3\\lib\\site-packages\\statsmodels\\tsa\\base\\tsa_model.py:376: ValueWarning: No supported index is available. Prediction results will be given with an integer index beginning at `start`.\n",
      "  warnings.warn('No supported index is available.'\n"
     ]
    },
    {
     "data": {
      "text/plain": [
       "-0.41684542374790146"
      ]
     },
     "execution_count": 57,
     "metadata": {},
     "output_type": "execute_result"
    }
   ],
   "source": [
    "model = fit_arima(btc_Q2, pd.concat([ety_Q2, gld_Q2], axis=1))\n",
    "return_pred = model.predict(exog=pd.concat([ety_Q3, gld_Q3], axis=1), start=btc_Q2.shape[0], end=btc_Q2.shape[0] + btc_Q3.shape[0] - 1).values\n",
    "signal = np.where(return_pred > 0, 1, -1)\n",
    "return_Q3 = np.product(btc_Q3 * signal + 1) - 1\n",
    "return_Q3"
   ]
  },
  {
   "cell_type": "code",
   "execution_count": 58,
   "id": "cb64d56d",
   "metadata": {},
   "outputs": [
    {
     "name": "stderr",
     "output_type": "stream",
     "text": [
      "C:\\Users\\Admin\\anaconda3\\lib\\site-packages\\statsmodels\\tsa\\base\\tsa_model.py:581: ValueWarning: A date index has been provided, but it has no associated frequency information and so will be ignored when e.g. forecasting.\n",
      "  warnings.warn('A date index has been provided, but it has no'\n",
      "C:\\Users\\Admin\\anaconda3\\lib\\site-packages\\statsmodels\\tsa\\base\\tsa_model.py:581: ValueWarning: A date index has been provided, but it has no associated frequency information and so will be ignored when e.g. forecasting.\n",
      "  warnings.warn('A date index has been provided, but it has no'\n",
      "C:\\Users\\Admin\\anaconda3\\lib\\site-packages\\statsmodels\\tsa\\base\\tsa_model.py:581: ValueWarning: A date index has been provided, but it has no associated frequency information and so will be ignored when e.g. forecasting.\n",
      "  warnings.warn('A date index has been provided, but it has no'\n",
      "C:\\Users\\Admin\\anaconda3\\lib\\site-packages\\statsmodels\\base\\model.py:566: ConvergenceWarning: Maximum Likelihood optimization failed to converge. Check mle_retvals\n",
      "  warnings.warn(\"Maximum Likelihood optimization failed to \"\n",
      "C:\\Users\\Admin\\anaconda3\\lib\\site-packages\\statsmodels\\tsa\\base\\tsa_model.py:376: ValueWarning: No supported index is available. Prediction results will be given with an integer index beginning at `start`.\n",
      "  warnings.warn('No supported index is available.'\n"
     ]
    },
    {
     "data": {
      "text/plain": [
       "0.5252887692502664"
      ]
     },
     "execution_count": 58,
     "metadata": {},
     "output_type": "execute_result"
    }
   ],
   "source": [
    "model = fit_arima(btc_Q3, pd.concat([ety_Q3, gld_Q3], axis=1))\n",
    "return_pred = model.predict(exog=pd.concat([ety_Q4, gld_Q4], axis=1), start=btc_Q3.shape[0], end=btc_Q3.shape[0] + btc_Q4.shape[0] - 1).values\n",
    "signal = np.where(return_pred > 0, 1, -1)\n",
    "return_Q4 = np.product(btc_Q4 * signal + 1) - 1\n",
    "return_Q4"
   ]
  },
  {
   "cell_type": "code",
   "execution_count": 59,
   "id": "c328ee46",
   "metadata": {},
   "outputs": [
    {
     "data": {
      "text/plain": [
       "-0.11052087410577605"
      ]
     },
     "execution_count": 59,
     "metadata": {},
     "output_type": "execute_result"
    }
   ],
   "source": [
    "(1 + return_Q3) * (1 + return_Q4) - 1"
   ]
  },
  {
   "cell_type": "code",
   "execution_count": 60,
   "id": "d75e6b0b",
   "metadata": {},
   "outputs": [
    {
     "name": "stdout",
     "output_type": "stream",
     "text": [
      "(-9.009886786838846, 1.0156944304581536e-13, array([-4.55225082, -3.89138389, -3.56042834]))\n",
      "(-7.631244069155397, 8.482040166297197e-10, array([-4.55225082, -3.89138389, -3.56042834]))\n",
      "(-8.40672988479475, 5.883619338553873e-12, array([-4.55225082, -3.89138389, -3.56042834]))\n"
     ]
    }
   ],
   "source": [
    "print(coint(ety_Q2, np.array([btc_Q2, gld_Q2]).T))\n",
    "print(coint(btc_Q2, np.array([ety_Q2, gld_Q2]).T))\n",
    "print(coint(gld_Q2, np.array([btc_Q2, ety_Q2]).T))"
   ]
  },
  {
   "cell_type": "code",
   "execution_count": 2,
   "id": "2188fa51",
   "metadata": {},
   "outputs": [],
   "source": [
    "# The p-value in each case above signifies that the return series in Quarter 2 are cointegrating"
   ]
  },
  {
   "cell_type": "markdown",
   "id": "da090206",
   "metadata": {},
   "source": [
    "## Category 3 Models: VARM"
   ]
  },
  {
   "cell_type": "code",
   "execution_count": 61,
   "id": "d645bb6a",
   "metadata": {},
   "outputs": [
    {
     "data": {
      "text/plain": [
       "array([[ 0.3039055 ,  0.82756673, -0.13147223],\n",
       "       [ 0.32094165, -0.01073344,  0.68979179],\n",
       "       [ 0.21208777,  1.49979789, -0.71188566],\n",
       "       [-0.20291885,  2.69954302, -1.49662417],\n",
       "       [ 0.18088223,  3.38632372, -2.56720595],\n",
       "       [-0.10080642,  3.16358436, -2.06277794],\n",
       "       [ 0.00987048,  2.52988315, -1.53975363],\n",
       "       [-0.02685625,  3.01951263, -1.99265637],\n",
       "       [-0.01870451,  2.94181383, -1.92310932],\n",
       "       [-0.01730372,  2.78161022, -1.76430649],\n",
       "       [-0.01861945,  2.90369603, -1.88507658],\n",
       "       [-0.01769421,  2.87492561, -1.8572314 ],\n",
       "       [-0.01920038,  2.86452745, -1.84532707],\n",
       "       [-0.0172872 ,  2.86406531, -1.84677811],\n",
       "       [-0.01890775,  2.87882514, -1.85991739],\n",
       "       [-0.01789314,  2.86450408, -1.84661095],\n",
       "       [-0.01844556,  2.87105828, -1.85261271],\n",
       "       [-0.01810538,  2.86976142, -1.85165603],\n",
       "       [-0.01835759,  2.87009574, -1.85173815],\n",
       "       [-0.018173  ,  2.86911815, -1.85094515],\n",
       "       [-0.01828939,  2.8702629 , -1.85197351],\n",
       "       [-0.01822526,  2.8695675 , -1.85134224],\n",
       "       [-0.01826058,  2.86979851, -1.85153793],\n",
       "       [-0.01823815,  2.86974974, -1.85151159],\n",
       "       [-0.01825363,  2.86980213, -1.8515485 ],\n",
       "       [-0.01824368,  2.86972788, -1.8514842 ],\n",
       "       [-0.0182493 ,  2.86978473, -1.85153543],\n",
       "       [-0.01824633,  2.86975996, -1.85151363],\n",
       "       [-0.01824803,  2.86976584, -1.85151781],\n",
       "       [-0.01824692,  2.86976347, -1.85151656],\n",
       "       [-0.01824765,  2.86976739, -1.85151975],\n",
       "       [-0.01824722,  2.8697635 , -1.85151628],\n",
       "       [-0.01824744,  2.86976565, -1.85151821],\n",
       "       [-0.01824732,  2.86976502, -1.8515177 ],\n",
       "       [-0.0182474 ,  2.86976513, -1.85151773],\n",
       "       [-0.01824735,  2.86976497, -1.85151763],\n",
       "       [-0.01824738,  2.8697652 , -1.85151782],\n",
       "       [-0.01824736,  2.86976504, -1.85151767],\n",
       "       [-0.01824737,  2.8697651 , -1.85151773],\n",
       "       [-0.01824737,  2.86976509, -1.85151772],\n",
       "       [-0.01824737,  2.86976509, -1.85151772],\n",
       "       [-0.01824737,  2.86976508, -1.85151772],\n",
       "       [-0.01824737,  2.86976509, -1.85151772],\n",
       "       [-0.01824737,  2.86976509, -1.85151772],\n",
       "       [-0.01824737,  2.86976509, -1.85151772],\n",
       "       [-0.01824737,  2.86976509, -1.85151772],\n",
       "       [-0.01824737,  2.86976509, -1.85151772],\n",
       "       [-0.01824737,  2.86976509, -1.85151772],\n",
       "       [-0.01824737,  2.86976509, -1.85151772],\n",
       "       [-0.01824737,  2.86976509, -1.85151772],\n",
       "       [-0.01824737,  2.86976509, -1.85151772],\n",
       "       [-0.01824737,  2.86976509, -1.85151772],\n",
       "       [-0.01824737,  2.86976509, -1.85151772],\n",
       "       [-0.01824737,  2.86976509, -1.85151772],\n",
       "       [-0.01824737,  2.86976509, -1.85151772],\n",
       "       [-0.01824737,  2.86976509, -1.85151772],\n",
       "       [-0.01824737,  2.86976509, -1.85151772],\n",
       "       [-0.01824737,  2.86976509, -1.85151772],\n",
       "       [-0.01824737,  2.86976509, -1.85151772],\n",
       "       [-0.01824737,  2.86976509, -1.85151772],\n",
       "       [-0.01824737,  2.86976509, -1.85151772],\n",
       "       [-0.01824737,  2.86976509, -1.85151772],\n",
       "       [-0.01824737,  2.86976509, -1.85151772]])"
      ]
     },
     "execution_count": 61,
     "metadata": {},
     "output_type": "execute_result"
    }
   ],
   "source": [
    "vec_Q2 = np.array([ety_Q2, btc_Q2, gld_Q2]).T\n",
    "model = VECM(vec_Q2, coint_rank=1)\n",
    "vecm_res = model.fit()\n",
    "res = vecm_res.predict(steps=63)\n",
    "row_sums = res.sum(axis=1)\n",
    "weights = res / row_sums[:, np.newaxis]\n",
    "weights"
   ]
  },
  {
   "cell_type": "code",
   "execution_count": 62,
   "id": "76eb4209",
   "metadata": {},
   "outputs": [],
   "source": [
    "vec_Q3 = np.array([ety_Q3, btc_Q3, gld_Q3]).T"
   ]
  },
  {
   "cell_type": "code",
   "execution_count": 63,
   "id": "65684504",
   "metadata": {},
   "outputs": [
    {
     "data": {
      "text/plain": [
       "0.18771531918562823"
      ]
     },
     "execution_count": 63,
     "metadata": {},
     "output_type": "execute_result"
    }
   ],
   "source": [
    "return_Q3 = weights * vec_Q3\n",
    "total_return_Q3 = return_Q3.sum(axis=1)\n",
    "portfolio_return_Q3 = np.product(total_return_Q3 + 1) - 1\n",
    "portfolio_return_Q3"
   ]
  },
  {
   "cell_type": "code",
   "execution_count": 64,
   "id": "6b1a7cb3",
   "metadata": {},
   "outputs": [
    {
     "name": "stdout",
     "output_type": "stream",
     "text": [
      "(-0.900653458018321, 0.9727450043898902, array([-4.53500554, -3.88148182, -3.55337787]))\n",
      "(-9.347212419636183, 9.90002470276579e-15, array([-4.53500554, -3.88148182, -3.55337787]))\n",
      "(-3.2014323597751666, 0.1680589114665484, array([-4.53500554, -3.88148182, -3.55337787]))\n"
     ]
    }
   ],
   "source": [
    "print(coint(ety_Q3, np.array([btc_Q3, gld_Q3]).T))\n",
    "print(coint(btc_Q3, np.array([ety_Q3, gld_Q3]).T))\n",
    "print(coint(gld_Q3, np.array([btc_Q3, ety_Q3]).T))"
   ]
  },
  {
   "cell_type": "code",
   "execution_count": 65,
   "id": "3eb728d6",
   "metadata": {},
   "outputs": [],
   "source": [
    "# The p-value above signifies that only the Bitcoin return series and combination of equity and gold return series are cointegrating. \n",
    "#In other two scenarios we reject the null hypothesis for existance of cointegration"
   ]
  },
  {
   "cell_type": "code",
   "execution_count": 66,
   "id": "d60be719",
   "metadata": {},
   "outputs": [
    {
     "data": {
      "text/plain": [
       "array([[-1.97763650e-01,  8.39190468e-01,  3.58573182e-01],\n",
       "       [-1.33874486e-01,  3.24377724e-01,  8.09496762e-01],\n",
       "       [ 4.58705843e-02,  8.09891546e-01,  1.44237870e-01],\n",
       "       [ 1.11170305e-01,  1.45069806e+00, -5.61868361e-01],\n",
       "       [ 5.70959502e-02,  8.76650294e-01,  6.62537562e-02],\n",
       "       [ 6.69665634e-02,  1.00329264e+00, -7.02592047e-02],\n",
       "       [ 6.05712290e-02,  9.12452555e-01,  2.69762157e-02],\n",
       "       [ 6.29518977e-02,  9.53516067e-01, -1.64679649e-02],\n",
       "       [ 6.16937397e-02,  9.27494836e-01,  1.08114245e-02],\n",
       "       [ 6.22007688e-02,  9.41266556e-01, -3.46732435e-03],\n",
       "       [ 6.19823274e-02,  9.33014761e-01,  5.00291113e-03],\n",
       "       [ 6.20539865e-02,  9.37632684e-01,  3.13329886e-04],\n",
       "       [ 6.20399834e-02,  9.34920738e-01,  3.03927892e-03],\n",
       "       [ 6.20318594e-02,  9.36475199e-01,  1.49294173e-03],\n",
       "       [ 6.20456532e-02,  9.35566358e-01,  2.38798904e-03],\n",
       "       [ 6.20325241e-02,  9.36093796e-01,  1.87368000e-03],\n",
       "       [ 6.20430817e-02,  9.35784921e-01,  2.17199739e-03],\n",
       "       [ 6.20352957e-02,  9.35965585e-01,  1.99911962e-03],\n",
       "       [ 6.20407709e-02,  9.35859399e-01,  2.09983017e-03],\n",
       "       [ 6.20370482e-02,  9.35921870e-01,  2.04108188e-03],\n",
       "       [ 6.20395239e-02,  9.35885002e-01,  2.07547373e-03],\n",
       "       [ 6.20379059e-02,  9.35906795e-01,  2.05529959e-03],\n",
       "       [ 6.20389501e-02,  9.35893884e-01,  2.06716628e-03],\n",
       "       [ 6.20382831e-02,  9.35901545e-01,  2.06017145e-03],\n",
       "       [ 6.20387058e-02,  9.35896990e-01,  2.06430399e-03],\n",
       "       [ 6.20384397e-02,  9.35899703e-01,  2.06185770e-03],\n",
       "       [ 6.20386063e-02,  9.35898085e-01,  2.06330861e-03],\n",
       "       [ 6.20385025e-02,  9.35899051e-01,  2.06244656e-03],\n",
       "       [ 6.20385669e-02,  9.35898473e-01,  2.06295959e-03],\n",
       "       [ 6.20385271e-02,  9.35898819e-01,  2.06265381e-03],\n",
       "       [ 6.20385517e-02,  9.35898612e-01,  2.06283632e-03],\n",
       "       [ 6.20385365e-02,  9.35898736e-01,  2.06272725e-03],\n",
       "       [ 6.20385458e-02,  9.35898662e-01,  2.06279251e-03],\n",
       "       [ 6.20385401e-02,  9.35898706e-01,  2.06275342e-03],\n",
       "       [ 6.20385436e-02,  9.35898680e-01,  2.06277686e-03],\n",
       "       [ 6.20385415e-02,  9.35898696e-01,  2.06276279e-03],\n",
       "       [ 6.20385428e-02,  9.35898686e-01,  2.06277124e-03],\n",
       "       [ 6.20385420e-02,  9.35898692e-01,  2.06276616e-03],\n",
       "       [ 6.20385425e-02,  9.35898688e-01,  2.06276921e-03],\n",
       "       [ 6.20385422e-02,  9.35898690e-01,  2.06276738e-03],\n",
       "       [ 6.20385423e-02,  9.35898689e-01,  2.06276848e-03],\n",
       "       [ 6.20385422e-02,  9.35898690e-01,  2.06276782e-03],\n",
       "       [ 6.20385423e-02,  9.35898689e-01,  2.06276822e-03],\n",
       "       [ 6.20385423e-02,  9.35898690e-01,  2.06276798e-03],\n",
       "       [ 6.20385423e-02,  9.35898690e-01,  2.06276812e-03],\n",
       "       [ 6.20385423e-02,  9.35898690e-01,  2.06276803e-03],\n",
       "       [ 6.20385423e-02,  9.35898690e-01,  2.06276809e-03],\n",
       "       [ 6.20385423e-02,  9.35898690e-01,  2.06276806e-03],\n",
       "       [ 6.20385423e-02,  9.35898690e-01,  2.06276808e-03],\n",
       "       [ 6.20385423e-02,  9.35898690e-01,  2.06276806e-03],\n",
       "       [ 6.20385423e-02,  9.35898690e-01,  2.06276807e-03],\n",
       "       [ 6.20385423e-02,  9.35898690e-01,  2.06276807e-03],\n",
       "       [ 6.20385423e-02,  9.35898690e-01,  2.06276807e-03],\n",
       "       [ 6.20385423e-02,  9.35898690e-01,  2.06276807e-03],\n",
       "       [ 6.20385423e-02,  9.35898690e-01,  2.06276807e-03],\n",
       "       [ 6.20385423e-02,  9.35898690e-01,  2.06276807e-03],\n",
       "       [ 6.20385423e-02,  9.35898690e-01,  2.06276807e-03],\n",
       "       [ 6.20385423e-02,  9.35898690e-01,  2.06276807e-03],\n",
       "       [ 6.20385423e-02,  9.35898690e-01,  2.06276807e-03]])"
      ]
     },
     "execution_count": 66,
     "metadata": {},
     "output_type": "execute_result"
    }
   ],
   "source": [
    "model = VECM(vec_Q3, coint_rank=1)\n",
    "vecm_res = model.fit()\n",
    "res = vecm_res.predict(steps=59)\n",
    "row_sums = res.sum(axis=1)\n",
    "weights = res / row_sums[:, np.newaxis]\n",
    "weights"
   ]
  },
  {
   "cell_type": "code",
   "execution_count": 67,
   "id": "75cfe387",
   "metadata": {},
   "outputs": [],
   "source": [
    "vec_Q4 = np.array([ety_Q4, btc_Q4, gld_Q4]).T"
   ]
  },
  {
   "cell_type": "code",
   "execution_count": 68,
   "id": "1cddcbdd",
   "metadata": {},
   "outputs": [
    {
     "data": {
      "text/plain": [
       "1.4225981489052275"
      ]
     },
     "execution_count": 68,
     "metadata": {},
     "output_type": "execute_result"
    }
   ],
   "source": [
    "return_Q4 = weights * vec_Q4\n",
    "total_return_Q4 = return_Q4.sum(axis=1)\n",
    "portfolio_return_Q4 = np.product(total_return_Q4 + 1) - 1\n",
    "portfolio_return_Q4"
   ]
  },
  {
   "cell_type": "code",
   "execution_count": 69,
   "id": "2e8b49f1",
   "metadata": {},
   "outputs": [
    {
     "data": {
      "text/plain": [
       "1.8773569336854843"
      ]
     },
     "execution_count": 69,
     "metadata": {},
     "output_type": "execute_result"
    }
   ],
   "source": [
    "(1 + portfolio_return_Q3) * (1 + portfolio_return_Q4) - 1"
   ]
  },
  {
   "cell_type": "markdown",
   "id": "9b4934de",
   "metadata": {},
   "source": [
    "## Combination Models"
   ]
  },
  {
   "cell_type": "code",
   "execution_count": 70,
   "id": "34b5517b",
   "metadata": {},
   "outputs": [],
   "source": [
    "# From the portfolio returns we can see that the VECM is the best performing model with highest returns"
   ]
  },
  {
   "cell_type": "code",
   "execution_count": null,
   "id": "0e19c4dd",
   "metadata": {},
   "outputs": [],
   "source": []
  }
 ],
 "metadata": {
  "kernelspec": {
   "display_name": "Python 3",
   "language": "python",
   "name": "python3"
  },
  "language_info": {
   "codemirror_mode": {
    "name": "ipython",
    "version": 3
   },
   "file_extension": ".py",
   "mimetype": "text/x-python",
   "name": "python",
   "nbconvert_exporter": "python",
   "pygments_lexer": "ipython3",
   "version": "3.8.8"
  }
 },
 "nbformat": 4,
 "nbformat_minor": 5
}
