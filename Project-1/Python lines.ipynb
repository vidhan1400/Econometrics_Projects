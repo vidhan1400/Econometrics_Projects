{
 "cells": [
  {
   "cell_type": "code",
   "execution_count": 1,
   "metadata": {},
   "outputs": [],
   "source": [
    "#pip install pmdarima\n",
    "#pip install arch"
   ]
  },
  {
   "cell_type": "code",
   "execution_count": 2,
   "metadata": {},
   "outputs": [],
   "source": [
    "import pandas as pd\n",
    "import numpy as np\n",
    "import matplotlib.pyplot as plt\n",
    "from datetime import datetime"
   ]
  },
  {
   "cell_type": "code",
   "execution_count": 3,
   "metadata": {},
   "outputs": [
    {
     "data": {
      "text/html": [
       "<div>\n",
       "<style scoped>\n",
       "    .dataframe tbody tr th:only-of-type {\n",
       "        vertical-align: middle;\n",
       "    }\n",
       "\n",
       "    .dataframe tbody tr th {\n",
       "        vertical-align: top;\n",
       "    }\n",
       "\n",
       "    .dataframe thead th {\n",
       "        text-align: right;\n",
       "    }\n",
       "</style>\n",
       "<table border=\"1\" class=\"dataframe\">\n",
       "  <thead>\n",
       "    <tr style=\"text-align: right;\">\n",
       "      <th></th>\n",
       "      <th>Open</th>\n",
       "      <th>High</th>\n",
       "      <th>Low</th>\n",
       "      <th>Close</th>\n",
       "      <th>Adj Close</th>\n",
       "      <th>Volume</th>\n",
       "    </tr>\n",
       "  </thead>\n",
       "  <tbody>\n",
       "    <tr>\n",
       "      <th>count</th>\n",
       "      <td>44.000000</td>\n",
       "      <td>44.000000</td>\n",
       "      <td>44.000000</td>\n",
       "      <td>44.000000</td>\n",
       "      <td>44.000000</td>\n",
       "      <td>4.400000e+01</td>\n",
       "    </tr>\n",
       "    <tr>\n",
       "      <th>mean</th>\n",
       "      <td>139.806591</td>\n",
       "      <td>140.299319</td>\n",
       "      <td>139.242501</td>\n",
       "      <td>139.781817</td>\n",
       "      <td>139.781817</td>\n",
       "      <td>7.570591e+06</td>\n",
       "    </tr>\n",
       "    <tr>\n",
       "      <th>std</th>\n",
       "      <td>1.698481</td>\n",
       "      <td>1.704518</td>\n",
       "      <td>1.683347</td>\n",
       "      <td>1.665070</td>\n",
       "      <td>1.665070</td>\n",
       "      <td>3.102116e+06</td>\n",
       "    </tr>\n",
       "    <tr>\n",
       "      <th>min</th>\n",
       "      <td>136.979996</td>\n",
       "      <td>137.210007</td>\n",
       "      <td>136.190002</td>\n",
       "      <td>137.009995</td>\n",
       "      <td>137.009995</td>\n",
       "      <td>3.620300e+06</td>\n",
       "    </tr>\n",
       "    <tr>\n",
       "      <th>25%</th>\n",
       "      <td>138.309998</td>\n",
       "      <td>138.777504</td>\n",
       "      <td>137.792503</td>\n",
       "      <td>138.255005</td>\n",
       "      <td>138.255005</td>\n",
       "      <td>5.121475e+06</td>\n",
       "    </tr>\n",
       "    <tr>\n",
       "      <th>50%</th>\n",
       "      <td>140.135002</td>\n",
       "      <td>140.580002</td>\n",
       "      <td>139.575005</td>\n",
       "      <td>140.114998</td>\n",
       "      <td>140.114998</td>\n",
       "      <td>6.670350e+06</td>\n",
       "    </tr>\n",
       "    <tr>\n",
       "      <th>75%</th>\n",
       "      <td>141.055004</td>\n",
       "      <td>141.680004</td>\n",
       "      <td>140.470005</td>\n",
       "      <td>140.862500</td>\n",
       "      <td>140.862500</td>\n",
       "      <td>9.764925e+06</td>\n",
       "    </tr>\n",
       "    <tr>\n",
       "      <th>max</th>\n",
       "      <td>142.789993</td>\n",
       "      <td>143.250000</td>\n",
       "      <td>142.009995</td>\n",
       "      <td>142.559998</td>\n",
       "      <td>142.559998</td>\n",
       "      <td>1.545910e+07</td>\n",
       "    </tr>\n",
       "  </tbody>\n",
       "</table>\n",
       "</div>"
      ],
      "text/plain": [
       "             Open        High         Low       Close   Adj Close  \\\n",
       "count   44.000000   44.000000   44.000000   44.000000   44.000000   \n",
       "mean   139.806591  140.299319  139.242501  139.781817  139.781817   \n",
       "std      1.698481    1.704518    1.683347    1.665070    1.665070   \n",
       "min    136.979996  137.210007  136.190002  137.009995  137.009995   \n",
       "25%    138.309998  138.777504  137.792503  138.255005  138.255005   \n",
       "50%    140.135002  140.580002  139.575005  140.114998  140.114998   \n",
       "75%    141.055004  141.680004  140.470005  140.862500  140.862500   \n",
       "max    142.789993  143.250000  142.009995  142.559998  142.559998   \n",
       "\n",
       "             Volume  \n",
       "count  4.400000e+01  \n",
       "mean   7.570591e+06  \n",
       "std    3.102116e+06  \n",
       "min    3.620300e+06  \n",
       "25%    5.121475e+06  \n",
       "50%    6.670350e+06  \n",
       "75%    9.764925e+06  \n",
       "max    1.545910e+07  "
      ]
     },
     "execution_count": 3,
     "metadata": {},
     "output_type": "execute_result"
    }
   ],
   "source": [
    "df_SPDR = pd.read_csv(\"GLD.csv\")\n",
    "df_SPDR.describe()"
   ]
  },
  {
   "cell_type": "code",
   "execution_count": 4,
   "metadata": {},
   "outputs": [
    {
     "data": {
      "text/html": [
       "<div>\n",
       "<style scoped>\n",
       "    .dataframe tbody tr th:only-of-type {\n",
       "        vertical-align: middle;\n",
       "    }\n",
       "\n",
       "    .dataframe tbody tr th {\n",
       "        vertical-align: top;\n",
       "    }\n",
       "\n",
       "    .dataframe thead th {\n",
       "        text-align: right;\n",
       "    }\n",
       "</style>\n",
       "<table border=\"1\" class=\"dataframe\">\n",
       "  <thead>\n",
       "    <tr style=\"text-align: right;\">\n",
       "      <th></th>\n",
       "      <th>Open</th>\n",
       "      <th>High</th>\n",
       "      <th>Low</th>\n",
       "      <th>Close</th>\n",
       "      <th>Adj Close</th>\n",
       "      <th>Volume</th>\n",
       "    </tr>\n",
       "    <tr>\n",
       "      <th>Date</th>\n",
       "      <th></th>\n",
       "      <th></th>\n",
       "      <th></th>\n",
       "      <th></th>\n",
       "      <th></th>\n",
       "      <th></th>\n",
       "    </tr>\n",
       "  </thead>\n",
       "  <tbody>\n",
       "    <tr>\n",
       "      <th>2019-09-30</th>\n",
       "      <td>139.770004</td>\n",
       "      <td>140.210007</td>\n",
       "      <td>138.029999</td>\n",
       "      <td>138.869995</td>\n",
       "      <td>138.869995</td>\n",
       "      <td>15459100</td>\n",
       "    </tr>\n",
       "    <tr>\n",
       "      <th>2019-10-01</th>\n",
       "      <td>138.070007</td>\n",
       "      <td>140.190002</td>\n",
       "      <td>137.800003</td>\n",
       "      <td>139.630005</td>\n",
       "      <td>139.630005</td>\n",
       "      <td>12476200</td>\n",
       "    </tr>\n",
       "    <tr>\n",
       "      <th>2019-10-02</th>\n",
       "      <td>140.789993</td>\n",
       "      <td>141.880005</td>\n",
       "      <td>140.460007</td>\n",
       "      <td>141.259995</td>\n",
       "      <td>141.259995</td>\n",
       "      <td>11914300</td>\n",
       "    </tr>\n",
       "    <tr>\n",
       "      <th>2019-10-03</th>\n",
       "      <td>141.360001</td>\n",
       "      <td>143.250000</td>\n",
       "      <td>141.289993</td>\n",
       "      <td>141.899994</td>\n",
       "      <td>141.899994</td>\n",
       "      <td>12396100</td>\n",
       "    </tr>\n",
       "    <tr>\n",
       "      <th>2019-10-04</th>\n",
       "      <td>141.479996</td>\n",
       "      <td>142.309998</td>\n",
       "      <td>141.139999</td>\n",
       "      <td>141.899994</td>\n",
       "      <td>141.899994</td>\n",
       "      <td>9651000</td>\n",
       "    </tr>\n",
       "  </tbody>\n",
       "</table>\n",
       "</div>"
      ],
      "text/plain": [
       "                  Open        High         Low       Close   Adj Close  \\\n",
       "Date                                                                     \n",
       "2019-09-30  139.770004  140.210007  138.029999  138.869995  138.869995   \n",
       "2019-10-01  138.070007  140.190002  137.800003  139.630005  139.630005   \n",
       "2019-10-02  140.789993  141.880005  140.460007  141.259995  141.259995   \n",
       "2019-10-03  141.360001  143.250000  141.289993  141.899994  141.899994   \n",
       "2019-10-04  141.479996  142.309998  141.139999  141.899994  141.899994   \n",
       "\n",
       "              Volume  \n",
       "Date                  \n",
       "2019-09-30  15459100  \n",
       "2019-10-01  12476200  \n",
       "2019-10-02  11914300  \n",
       "2019-10-03  12396100  \n",
       "2019-10-04   9651000  "
      ]
     },
     "execution_count": 4,
     "metadata": {},
     "output_type": "execute_result"
    }
   ],
   "source": [
    "#df_SPDR=df_SPDR.drop(labels=[\"Open\",\"High\",\"Low\",\"Close\",\"Volume\"],axis=1)\n",
    "df_SPDR[\"Date\"] = pd.to_datetime(df_SPDR[\"Date\"], format=\"%Y-%m-%d\")\n",
    "df_SPDR.set_index(\"Date\", inplace=True)\n",
    "df_SPDR.head()"
   ]
  },
  {
   "cell_type": "code",
   "execution_count": 5,
   "metadata": {},
   "outputs": [
    {
     "data": {
      "text/html": [
       "<div>\n",
       "<style scoped>\n",
       "    .dataframe tbody tr th:only-of-type {\n",
       "        vertical-align: middle;\n",
       "    }\n",
       "\n",
       "    .dataframe tbody tr th {\n",
       "        vertical-align: top;\n",
       "    }\n",
       "\n",
       "    .dataframe thead th {\n",
       "        text-align: right;\n",
       "    }\n",
       "</style>\n",
       "<table border=\"1\" class=\"dataframe\">\n",
       "  <thead>\n",
       "    <tr style=\"text-align: right;\">\n",
       "      <th></th>\n",
       "      <th>Open</th>\n",
       "      <th>High</th>\n",
       "      <th>Low</th>\n",
       "      <th>Close</th>\n",
       "      <th>Adj Close</th>\n",
       "      <th>Volume</th>\n",
       "      <th>Daily Return</th>\n",
       "    </tr>\n",
       "    <tr>\n",
       "      <th>Date</th>\n",
       "      <th></th>\n",
       "      <th></th>\n",
       "      <th></th>\n",
       "      <th></th>\n",
       "      <th></th>\n",
       "      <th></th>\n",
       "      <th></th>\n",
       "    </tr>\n",
       "  </thead>\n",
       "  <tbody>\n",
       "    <tr>\n",
       "      <th>2019-10-01</th>\n",
       "      <td>138.070007</td>\n",
       "      <td>140.190002</td>\n",
       "      <td>137.800003</td>\n",
       "      <td>139.630005</td>\n",
       "      <td>139.630005</td>\n",
       "      <td>12476200</td>\n",
       "      <td>0.005473</td>\n",
       "    </tr>\n",
       "    <tr>\n",
       "      <th>2019-10-02</th>\n",
       "      <td>140.789993</td>\n",
       "      <td>141.880005</td>\n",
       "      <td>140.460007</td>\n",
       "      <td>141.259995</td>\n",
       "      <td>141.259995</td>\n",
       "      <td>11914300</td>\n",
       "      <td>0.011674</td>\n",
       "    </tr>\n",
       "    <tr>\n",
       "      <th>2019-10-03</th>\n",
       "      <td>141.360001</td>\n",
       "      <td>143.250000</td>\n",
       "      <td>141.289993</td>\n",
       "      <td>141.899994</td>\n",
       "      <td>141.899994</td>\n",
       "      <td>12396100</td>\n",
       "      <td>0.004531</td>\n",
       "    </tr>\n",
       "    <tr>\n",
       "      <th>2019-10-04</th>\n",
       "      <td>141.479996</td>\n",
       "      <td>142.309998</td>\n",
       "      <td>141.139999</td>\n",
       "      <td>141.899994</td>\n",
       "      <td>141.899994</td>\n",
       "      <td>9651000</td>\n",
       "      <td>0.000000</td>\n",
       "    </tr>\n",
       "    <tr>\n",
       "      <th>2019-10-07</th>\n",
       "      <td>141.160004</td>\n",
       "      <td>141.770004</td>\n",
       "      <td>140.240005</td>\n",
       "      <td>140.690002</td>\n",
       "      <td>140.690002</td>\n",
       "      <td>6127200</td>\n",
       "      <td>-0.008527</td>\n",
       "    </tr>\n",
       "  </tbody>\n",
       "</table>\n",
       "</div>"
      ],
      "text/plain": [
       "                  Open        High         Low       Close   Adj Close  \\\n",
       "Date                                                                     \n",
       "2019-10-01  138.070007  140.190002  137.800003  139.630005  139.630005   \n",
       "2019-10-02  140.789993  141.880005  140.460007  141.259995  141.259995   \n",
       "2019-10-03  141.360001  143.250000  141.289993  141.899994  141.899994   \n",
       "2019-10-04  141.479996  142.309998  141.139999  141.899994  141.899994   \n",
       "2019-10-07  141.160004  141.770004  140.240005  140.690002  140.690002   \n",
       "\n",
       "              Volume  Daily Return  \n",
       "Date                                \n",
       "2019-10-01  12476200      0.005473  \n",
       "2019-10-02  11914300      0.011674  \n",
       "2019-10-03  12396100      0.004531  \n",
       "2019-10-04   9651000      0.000000  \n",
       "2019-10-07   6127200     -0.008527  "
      ]
     },
     "execution_count": 5,
     "metadata": {},
     "output_type": "execute_result"
    }
   ],
   "source": [
    "df_SPDR[\"Daily Return\"] = df_SPDR[\"Adj Close\"].pct_change(1)\n",
    "df_SPDR=df_SPDR[df_SPDR['Daily Return'].notna()]\n",
    "df_SPDR.head()"
   ]
  },
  {
   "cell_type": "markdown",
   "metadata": {},
   "source": [
    "# 3. Data summaries"
   ]
  },
  {
   "cell_type": "code",
   "execution_count": 6,
   "metadata": {},
   "outputs": [
    {
     "name": "stdout",
     "output_type": "stream",
     "text": [
      "average price of SPDR gold ETF for Oct month is  140.87478182608695\n",
      "average price of SPDR gold ETF for Nov month is  138.57049950000004\n"
     ]
    }
   ],
   "source": [
    "average_price=df_SPDR.resample('M').mean()\n",
    "print(\"average price of SPDR gold ETF for Oct month is \", average_price['Adj Close'].iloc[0])\n",
    "print(\"average price of SPDR gold ETF for Nov month is \", average_price['Adj Close'].iloc[1])"
   ]
  },
  {
   "cell_type": "code",
   "execution_count": 7,
   "metadata": {},
   "outputs": [
    {
     "name": "stdout",
     "output_type": "stream",
     "text": [
      "Standard deviation of SPDR gold ETF for Oct month is  0.8312292984587607\n",
      "Standard deviation of SPDR gold ETF for Nov month is  1.5620946050997464\n"
     ]
    }
   ],
   "source": [
    "std_dev=df_SPDR.resample('M').std()\n",
    "print(\"Standard deviation of SPDR gold ETF for Oct month is \", std_dev['Adj Close'].iloc[0])\n",
    "print(\"Standard deviation of SPDR gold ETF for Nov month is \", std_dev['Adj Close'].iloc[1])"
   ]
  },
  {
   "cell_type": "markdown",
   "metadata": {},
   "source": [
    "# 4. Graphing"
   ]
  },
  {
   "cell_type": "code",
   "execution_count": 8,
   "metadata": {},
   "outputs": [
    {
     "data": {
      "text/plain": [
       "Text(0.5, 1.0, 'Price plot for SPDR Gold ETF')"
      ]
     },
     "execution_count": 8,
     "metadata": {},
     "output_type": "execute_result"
    },
    {
     "data": {
      "image/png": "[encoded data removed]",
      "text/plain": [
       "<Figure size 864x576 with 1 Axes>"
      ]
     },
     "metadata": {
      "needs_background": "light"
     },
     "output_type": "display_data"
    }
   ],
   "source": [
    "df_SPDR[\"Adj Close\"].plot(figsize=(12,8),label=\"SPDR Gold ETF\")\n",
    "plt.legend();\n",
    "plt.title(\"Price plot for SPDR Gold ETF\")"
   ]
  },
  {
   "cell_type": "code",
   "execution_count": 9,
   "metadata": {},
   "outputs": [],
   "source": [
    "from pmdarima import auto_arima\n",
    "import warnings\n",
    "warnings.filterwarnings(\"ignore\")"
   ]
  },
  {
   "cell_type": "code",
   "execution_count": 10,
   "metadata": {},
   "outputs": [],
   "source": [
    "def get_data(df, month, column):\n",
    "    return df[(df.index >= f\"2019-{month:02d}-01\") & (df.index < f\"2019-{(month+1):02d}-01\")][column]"
   ]
  },
  {
   "cell_type": "code",
   "execution_count": 11,
   "metadata": {},
   "outputs": [
    {
     "name": "stdout",
     "output_type": "stream",
     "text": [
      "Performing stepwise search to minimize aic\n",
      " ARIMA(2,0,2)(0,0,0)[0] intercept   : AIC=61.879, Time=0.14 sec\n",
      " ARIMA(0,0,0)(0,0,0)[0] intercept   : AIC=59.746, Time=0.01 sec\n",
      " ARIMA(1,0,0)(0,0,0)[0] intercept   : AIC=58.172, Time=0.02 sec\n",
      " ARIMA(0,0,1)(0,0,0)[0] intercept   : AIC=56.764, Time=0.01 sec\n",
      " ARIMA(0,0,0)(0,0,0)[0]             : AIC=294.874, Time=0.00 sec\n",
      " ARIMA(1,0,1)(0,0,0)[0] intercept   : AIC=58.756, Time=0.05 sec\n",
      " ARIMA(0,0,2)(0,0,0)[0] intercept   : AIC=57.678, Time=0.01 sec\n",
      " ARIMA(1,0,2)(0,0,0)[0] intercept   : AIC=60.705, Time=0.05 sec\n",
      " ARIMA(0,0,1)(0,0,0)[0]             : AIC=inf, Time=0.01 sec\n",
      "\n",
      "Best model:  ARIMA(0,0,1)(0,0,0)[0] intercept\n",
      "Total fit time: 0.883 seconds\n"
     ]
    },
    {
     "data": {
      "text/html": [
       "<table class=\"simpletable\">\n",
       "<caption>SARIMAX Results</caption>\n",
       "<tr>\n",
       "  <th>Dep. Variable:</th>           <td>y</td>        <th>  No. Observations:  </th>   <td>23</td>   \n",
       "</tr>\n",
       "<tr>\n",
       "  <th>Model:</th>           <td>SARIMAX(0, 0, 1)</td> <th>  Log Likelihood     </th> <td>-25.382</td>\n",
       "</tr>\n",
       "<tr>\n",
       "  <th>Date:</th>            <td>Mon, 27 Sep 2021</td> <th>  AIC                </th> <td>56.764</td> \n",
       "</tr>\n",
       "<tr>\n",
       "  <th>Time:</th>                <td>23:18:48</td>     <th>  BIC                </th> <td>60.171</td> \n",
       "</tr>\n",
       "<tr>\n",
       "  <th>Sample:</th>                  <td>0</td>        <th>  HQIC               </th> <td>57.621</td> \n",
       "</tr>\n",
       "<tr>\n",
       "  <th></th>                       <td> - 23</td>      <th>                     </th>    <td> </td>   \n",
       "</tr>\n",
       "<tr>\n",
       "  <th>Covariance Type:</th>        <td>opg</td>       <th>                     </th>    <td> </td>   \n",
       "</tr>\n",
       "</table>\n",
       "<table class=\"simpletable\">\n",
       "<tr>\n",
       "      <td></td>         <th>coef</th>     <th>std err</th>      <th>z</th>      <th>P>|z|</th>  <th>[0.025</th>    <th>0.975]</th>  \n",
       "</tr>\n",
       "<tr>\n",
       "  <th>intercept</th> <td>  140.8759</td> <td>    0.222</td> <td>  635.941</td> <td> 0.000</td> <td>  140.442</td> <td>  141.310</td>\n",
       "</tr>\n",
       "<tr>\n",
       "  <th>ma.L1</th>     <td>    0.4994</td> <td>    0.267</td> <td>    1.868</td> <td> 0.062</td> <td>   -0.025</td> <td>    1.023</td>\n",
       "</tr>\n",
       "<tr>\n",
       "  <th>sigma2</th>    <td>    0.5256</td> <td>    0.210</td> <td>    2.499</td> <td> 0.012</td> <td>    0.113</td> <td>    0.938</td>\n",
       "</tr>\n",
       "</table>\n",
       "<table class=\"simpletable\">\n",
       "<tr>\n",
       "  <th>Ljung-Box (L1) (Q):</th>     <td>0.01</td> <th>  Jarque-Bera (JB):  </th> <td>0.70</td>\n",
       "</tr>\n",
       "<tr>\n",
       "  <th>Prob(Q):</th>                <td>0.92</td> <th>  Prob(JB):          </th> <td>0.71</td>\n",
       "</tr>\n",
       "<tr>\n",
       "  <th>Heteroskedasticity (H):</th> <td>0.67</td> <th>  Skew:              </th> <td>0.12</td>\n",
       "</tr>\n",
       "<tr>\n",
       "  <th>Prob(H) (two-sided):</th>    <td>0.58</td> <th>  Kurtosis:          </th> <td>2.18</td>\n",
       "</tr>\n",
       "</table><br/><br/>Warnings:<br/>[1] Covariance matrix calculated using the outer product of gradients (complex-step)."
      ],
      "text/plain": [
       "<class 'statsmodels.iolib.summary.Summary'>\n",
       "\"\"\"\n",
       "                               SARIMAX Results                                \n",
       "==============================================================================\n",
       "Dep. Variable:                      y   No. Observations:                   23\n",
       "Model:               SARIMAX(0, 0, 1)   Log Likelihood                 -25.382\n",
       "Date:                Mon, 27 Sep 2021   AIC                             56.764\n",
       "Time:                        23:18:48   BIC                             60.171\n",
       "Sample:                             0   HQIC                            57.621\n",
       "                                 - 23                                         \n",
       "Covariance Type:                  opg                                         \n",
       "==============================================================================\n",
       "                 coef    std err          z      P>|z|      [0.025      0.975]\n",
       "------------------------------------------------------------------------------\n",
       "intercept    140.8759      0.222    635.941      0.000     140.442     141.310\n",
       "ma.L1          0.4994      0.267      1.868      0.062      -0.025       1.023\n",
       "sigma2         0.5256      0.210      2.499      0.012       0.113       0.938\n",
       "===================================================================================\n",
       "Ljung-Box (L1) (Q):                   0.01   Jarque-Bera (JB):                 0.70\n",
       "Prob(Q):                              0.92   Prob(JB):                         0.71\n",
       "Heteroskedasticity (H):               0.67   Skew:                             0.12\n",
       "Prob(H) (two-sided):                  0.58   Kurtosis:                         2.18\n",
       "===================================================================================\n",
       "\n",
       "Warnings:\n",
       "[1] Covariance matrix calculated using the outer product of gradients (complex-step).\n",
       "\"\"\""
      ]
     },
     "execution_count": 11,
     "metadata": {},
     "output_type": "execute_result"
    }
   ],
   "source": [
    "data=get_data(df_SPDR, 10, \"Adj Close\")\n",
    "stepwise_fit= auto_arima(data,trace=True,d=None, supress_warnings=True)\n",
    "stepwise_fit.summary()"
   ]
  },
  {
   "cell_type": "code",
   "execution_count": 12,
   "metadata": {},
   "outputs": [],
   "source": [
    "from statsmodels.tsa.arima.model import ARIMA\n",
    "from scipy import stats"
   ]
  },
  {
   "cell_type": "code",
   "execution_count": 13,
   "metadata": {},
   "outputs": [],
   "source": [
    "def get_data(df, month, column):\n",
    "    return df[(df.index >= f\"2019-{month:02d}-01\") & (df.index < f\"2019-{(month+1):02d}-01\")][column]"
   ]
  },
  {
   "cell_type": "code",
   "execution_count": 14,
   "metadata": {},
   "outputs": [],
   "source": [
    "def fit_arima(data):\n",
    "    model = ARIMA(data, order=(0,0,1))\n",
    "    model_fit = model.fit()\n",
    "    print(model_fit.summary())\n",
    "    residuals = pd.DataFrame(model_fit.resid)\n",
    "    ax1 = residuals.plot(label='residual')\n",
    "    plt.title(\"Residuals during the month\")\n",
    "    ax1.get_legend().remove()\n",
    "    plt.show()\n",
    "    ax2 = residuals.plot(kind='kde')\n",
    "    plt.title(\"Kernel density estimation of the residuals\")\n",
    "    ax2.get_legend().remove()\n",
    "    plt.show()"
   ]
  },
  {
   "cell_type": "code",
   "execution_count": 15,
   "metadata": {},
   "outputs": [
    {
     "name": "stdout",
     "output_type": "stream",
     "text": [
      "ARMA model for SPDR gold ETF in Oct\n",
      "                               SARIMAX Results                                \n",
      "==============================================================================\n",
      "Dep. Variable:              Adj Close   No. Observations:                   23\n",
      "Model:                 ARIMA(0, 0, 1)   Log Likelihood                 -25.382\n",
      "Date:                Mon, 27 Sep 2021   AIC                             56.764\n",
      "Time:                        23:18:48   BIC                             60.171\n",
      "Sample:                    10-01-2019   HQIC                            57.621\n",
      "                         - 10-31-2019                                         \n",
      "Covariance Type:                  opg                                         \n",
      "==============================================================================\n",
      "                 coef    std err          z      P>|z|      [0.025      0.975]\n",
      "------------------------------------------------------------------------------\n",
      "const        140.8759      0.222    635.945      0.000     140.442     141.310\n",
      "ma.L1          0.4994      0.267      1.868      0.062      -0.025       1.023\n",
      "sigma2         0.5256      0.210      2.499      0.012       0.113       0.938\n",
      "===================================================================================\n",
      "Ljung-Box (L1) (Q):                   0.01   Jarque-Bera (JB):                 0.70\n",
      "Prob(Q):                              0.92   Prob(JB):                         0.71\n",
      "Heteroskedasticity (H):               0.67   Skew:                             0.12\n",
      "Prob(H) (two-sided):                  0.58   Kurtosis:                         2.18\n",
      "===================================================================================\n",
      "\n",
      "Warnings:\n",
      "[1] Covariance matrix calculated using the outer product of gradients (complex-step).\n"
     ]
    },
    {
     "data": {
      "image/png": "[encoded data removed]",
      "text/plain": [
       "<Figure size 432x288 with 1 Axes>"
      ]
     },
     "metadata": {
      "needs_background": "light"
     },
     "output_type": "display_data"
    },
    {
     "data": {
      "image/png": "[encoded data removed]",
      "text/plain": [
       "<Figure size 432x288 with 1 Axes>"
      ]
     },
     "metadata": {
      "needs_background": "light"
     },
     "output_type": "display_data"
    },
    {
     "name": "stdout",
     "output_type": "stream",
     "text": [
      "ARMA model for SPDR gold ETF in Nov\n",
      "                               SARIMAX Results                                \n",
      "==============================================================================\n",
      "Dep. Variable:              Adj Close   No. Observations:                   20\n",
      "Model:                 ARIMA(0, 0, 1)   Log Likelihood                 -31.374\n",
      "Date:                Mon, 27 Sep 2021   AIC                             68.747\n",
      "Time:                        23:18:48   BIC                             71.735\n",
      "Sample:                             0   HQIC                            69.331\n",
      "                                 - 20                                         \n",
      "Covariance Type:                  opg                                         \n",
      "==============================================================================\n",
      "                 coef    std err          z      P>|z|      [0.025      0.975]\n",
      "------------------------------------------------------------------------------\n",
      "const        138.6324      0.823    168.417      0.000     137.019     140.246\n",
      "ma.L1          0.6389      0.466      1.372      0.170      -0.274       1.551\n",
      "sigma2         1.3142      0.454      2.893      0.004       0.424       2.205\n",
      "===================================================================================\n",
      "Ljung-Box (L1) (Q):                   0.88   Jarque-Bera (JB):                 6.99\n",
      "Prob(Q):                              0.35   Prob(JB):                         0.03\n",
      "Heteroskedasticity (H):               0.25   Skew:                             1.21\n",
      "Prob(H) (two-sided):                  0.09   Kurtosis:                         4.59\n",
      "===================================================================================\n",
      "\n",
      "Warnings:\n",
      "[1] Covariance matrix calculated using the outer product of gradients (complex-step).\n"
     ]
    },
    {
     "data": {
      "image/png": "[encoded data removed]",
      "text/plain": [
       "<Figure size 432x288 with 1 Axes>"
      ]
     },
     "metadata": {
      "needs_background": "light"
     },
     "output_type": "display_data"
    },
    {
     "data": {
      "image/png": "[encoded data removed]",
      "text/plain": [
       "<Figure size 432x288 with 1 Axes>"
      ]
     },
     "metadata": {
      "needs_background": "light"
     },
     "output_type": "display_data"
    }
   ],
   "source": [
    "month_wise = {10:\"Oct\", 11:\"Nov\"}\n",
    "for mth in [10, 11]:\n",
    "    print(f\"ARMA model for SPDR gold ETF in {month_wise[mth]}\")\n",
    "    data = get_data(df_SPDR, mth, \"Adj Close\")\n",
    "    fit_arima(data)"
   ]
  },
  {
   "cell_type": "markdown",
   "metadata": {},
   "source": [
    "# 7. Modelling Volitility"
   ]
  },
  {
   "cell_type": "code",
   "execution_count": 16,
   "metadata": {},
   "outputs": [
    {
     "data": {
      "text/html": [
       "<div>\n",
       "<style scoped>\n",
       "    .dataframe tbody tr th:only-of-type {\n",
       "        vertical-align: middle;\n",
       "    }\n",
       "\n",
       "    .dataframe tbody tr th {\n",
       "        vertical-align: top;\n",
       "    }\n",
       "\n",
       "    .dataframe thead th {\n",
       "        text-align: right;\n",
       "    }\n",
       "</style>\n",
       "<table border=\"1\" class=\"dataframe\">\n",
       "  <thead>\n",
       "    <tr style=\"text-align: right;\">\n",
       "      <th></th>\n",
       "      <th>Open</th>\n",
       "      <th>High</th>\n",
       "      <th>Low</th>\n",
       "      <th>Close</th>\n",
       "      <th>Adj Close</th>\n",
       "      <th>Volume</th>\n",
       "      <th>Daily Return</th>\n",
       "      <th>High minus Low</th>\n",
       "    </tr>\n",
       "    <tr>\n",
       "      <th>Date</th>\n",
       "      <th></th>\n",
       "      <th></th>\n",
       "      <th></th>\n",
       "      <th></th>\n",
       "      <th></th>\n",
       "      <th></th>\n",
       "      <th></th>\n",
       "      <th></th>\n",
       "    </tr>\n",
       "  </thead>\n",
       "  <tbody>\n",
       "    <tr>\n",
       "      <th>2019-10-01</th>\n",
       "      <td>138.070007</td>\n",
       "      <td>140.190002</td>\n",
       "      <td>137.800003</td>\n",
       "      <td>139.630005</td>\n",
       "      <td>139.630005</td>\n",
       "      <td>12476200</td>\n",
       "      <td>0.005473</td>\n",
       "      <td>2.389999</td>\n",
       "    </tr>\n",
       "    <tr>\n",
       "      <th>2019-10-02</th>\n",
       "      <td>140.789993</td>\n",
       "      <td>141.880005</td>\n",
       "      <td>140.460007</td>\n",
       "      <td>141.259995</td>\n",
       "      <td>141.259995</td>\n",
       "      <td>11914300</td>\n",
       "      <td>0.011674</td>\n",
       "      <td>1.419998</td>\n",
       "    </tr>\n",
       "    <tr>\n",
       "      <th>2019-10-03</th>\n",
       "      <td>141.360001</td>\n",
       "      <td>143.250000</td>\n",
       "      <td>141.289993</td>\n",
       "      <td>141.899994</td>\n",
       "      <td>141.899994</td>\n",
       "      <td>12396100</td>\n",
       "      <td>0.004531</td>\n",
       "      <td>1.960007</td>\n",
       "    </tr>\n",
       "    <tr>\n",
       "      <th>2019-10-04</th>\n",
       "      <td>141.479996</td>\n",
       "      <td>142.309998</td>\n",
       "      <td>141.139999</td>\n",
       "      <td>141.899994</td>\n",
       "      <td>141.899994</td>\n",
       "      <td>9651000</td>\n",
       "      <td>0.000000</td>\n",
       "      <td>1.169999</td>\n",
       "    </tr>\n",
       "    <tr>\n",
       "      <th>2019-10-07</th>\n",
       "      <td>141.160004</td>\n",
       "      <td>141.770004</td>\n",
       "      <td>140.240005</td>\n",
       "      <td>140.690002</td>\n",
       "      <td>140.690002</td>\n",
       "      <td>6127200</td>\n",
       "      <td>-0.008527</td>\n",
       "      <td>1.529999</td>\n",
       "    </tr>\n",
       "  </tbody>\n",
       "</table>\n",
       "</div>"
      ],
      "text/plain": [
       "                  Open        High         Low       Close   Adj Close  \\\n",
       "Date                                                                     \n",
       "2019-10-01  138.070007  140.190002  137.800003  139.630005  139.630005   \n",
       "2019-10-02  140.789993  141.880005  140.460007  141.259995  141.259995   \n",
       "2019-10-03  141.360001  143.250000  141.289993  141.899994  141.899994   \n",
       "2019-10-04  141.479996  142.309998  141.139999  141.899994  141.899994   \n",
       "2019-10-07  141.160004  141.770004  140.240005  140.690002  140.690002   \n",
       "\n",
       "              Volume  Daily Return  High minus Low  \n",
       "Date                                                \n",
       "2019-10-01  12476200      0.005473        2.389999  \n",
       "2019-10-02  11914300      0.011674        1.419998  \n",
       "2019-10-03  12396100      0.004531        1.960007  \n",
       "2019-10-04   9651000      0.000000        1.169999  \n",
       "2019-10-07   6127200     -0.008527        1.529999  "
      ]
     },
     "execution_count": 16,
     "metadata": {},
     "output_type": "execute_result"
    }
   ],
   "source": [
    "df_SPDR[\"High minus Low\"]= df_SPDR[\"High\"]-df_SPDR[\"Low\"]\n",
    "df_SPDR.head()"
   ]
  },
  {
   "cell_type": "code",
   "execution_count": 17,
   "metadata": {},
   "outputs": [
    {
     "data": {
      "text/html": [
       "<div>\n",
       "<style scoped>\n",
       "    .dataframe tbody tr th:only-of-type {\n",
       "        vertical-align: middle;\n",
       "    }\n",
       "\n",
       "    .dataframe tbody tr th {\n",
       "        vertical-align: top;\n",
       "    }\n",
       "\n",
       "    .dataframe thead th {\n",
       "        text-align: right;\n",
       "    }\n",
       "</style>\n",
       "<table border=\"1\" class=\"dataframe\">\n",
       "  <thead>\n",
       "    <tr style=\"text-align: right;\">\n",
       "      <th></th>\n",
       "      <th>Open</th>\n",
       "      <th>High</th>\n",
       "      <th>Low</th>\n",
       "      <th>Close</th>\n",
       "      <th>Adj Close</th>\n",
       "      <th>Volume</th>\n",
       "      <th>Daily Return</th>\n",
       "      <th>High minus Low</th>\n",
       "    </tr>\n",
       "    <tr>\n",
       "      <th>Date</th>\n",
       "      <th></th>\n",
       "      <th></th>\n",
       "      <th></th>\n",
       "      <th></th>\n",
       "      <th></th>\n",
       "      <th></th>\n",
       "      <th></th>\n",
       "      <th></th>\n",
       "    </tr>\n",
       "  </thead>\n",
       "  <tbody>\n",
       "    <tr>\n",
       "      <th>2019-10-31</th>\n",
       "      <td>140.847391</td>\n",
       "      <td>141.384349</td>\n",
       "      <td>140.303043</td>\n",
       "      <td>140.874782</td>\n",
       "      <td>140.874782</td>\n",
       "      <td>7.757287e+06</td>\n",
       "      <td>0.001119</td>\n",
       "      <td>1.081305</td>\n",
       "    </tr>\n",
       "    <tr>\n",
       "      <th>2019-11-30</th>\n",
       "      <td>138.611500</td>\n",
       "      <td>139.056000</td>\n",
       "      <td>138.083502</td>\n",
       "      <td>138.570500</td>\n",
       "      <td>138.570500</td>\n",
       "      <td>6.961465e+06</td>\n",
       "      <td>-0.001611</td>\n",
       "      <td>0.972498</td>\n",
       "    </tr>\n",
       "  </tbody>\n",
       "</table>\n",
       "</div>"
      ],
      "text/plain": [
       "                  Open        High         Low       Close   Adj Close  \\\n",
       "Date                                                                     \n",
       "2019-10-31  140.847391  141.384349  140.303043  140.874782  140.874782   \n",
       "2019-11-30  138.611500  139.056000  138.083502  138.570500  138.570500   \n",
       "\n",
       "                  Volume  Daily Return  High minus Low  \n",
       "Date                                                    \n",
       "2019-10-31  7.757287e+06      0.001119        1.081305  \n",
       "2019-11-30  6.961465e+06     -0.001611        0.972498  "
      ]
     },
     "execution_count": 17,
     "metadata": {},
     "output_type": "execute_result"
    }
   ],
   "source": [
    "avg_HNL=df_SPDR.resample('M').mean()\n",
    "avg_HNL"
   ]
  },
  {
   "cell_type": "code",
   "execution_count": 18,
   "metadata": {},
   "outputs": [
    {
     "data": {
      "text/html": [
       "<div>\n",
       "<style scoped>\n",
       "    .dataframe tbody tr th:only-of-type {\n",
       "        vertical-align: middle;\n",
       "    }\n",
       "\n",
       "    .dataframe tbody tr th {\n",
       "        vertical-align: top;\n",
       "    }\n",
       "\n",
       "    .dataframe thead th {\n",
       "        text-align: right;\n",
       "    }\n",
       "</style>\n",
       "<table border=\"1\" class=\"dataframe\">\n",
       "  <thead>\n",
       "    <tr style=\"text-align: right;\">\n",
       "      <th></th>\n",
       "      <th>Open</th>\n",
       "      <th>High</th>\n",
       "      <th>Low</th>\n",
       "      <th>Close</th>\n",
       "      <th>Adj Close</th>\n",
       "      <th>Volume</th>\n",
       "      <th>Daily Return</th>\n",
       "      <th>High minus Low</th>\n",
       "    </tr>\n",
       "    <tr>\n",
       "      <th>Date</th>\n",
       "      <th></th>\n",
       "      <th></th>\n",
       "      <th></th>\n",
       "      <th></th>\n",
       "      <th></th>\n",
       "      <th></th>\n",
       "      <th></th>\n",
       "      <th></th>\n",
       "    </tr>\n",
       "  </thead>\n",
       "  <tbody>\n",
       "    <tr>\n",
       "      <th>2019-10-31</th>\n",
       "      <td>0.972620</td>\n",
       "      <td>0.929309</td>\n",
       "      <td>0.950674</td>\n",
       "      <td>0.831229</td>\n",
       "      <td>0.831229</td>\n",
       "      <td>2.804293e+06</td>\n",
       "      <td>0.006106</td>\n",
       "      <td>0.479405</td>\n",
       "    </tr>\n",
       "    <tr>\n",
       "      <th>2019-11-30</th>\n",
       "      <td>1.618235</td>\n",
       "      <td>1.588269</td>\n",
       "      <td>1.585444</td>\n",
       "      <td>1.562095</td>\n",
       "      <td>1.562095</td>\n",
       "      <td>2.994154e+06</td>\n",
       "      <td>0.006188</td>\n",
       "      <td>0.492552</td>\n",
       "    </tr>\n",
       "  </tbody>\n",
       "</table>\n",
       "</div>"
      ],
      "text/plain": [
       "                Open      High       Low     Close  Adj Close        Volume  \\\n",
       "Date                                                                          \n",
       "2019-10-31  0.972620  0.929309  0.950674  0.831229   0.831229  2.804293e+06   \n",
       "2019-11-30  1.618235  1.588269  1.585444  1.562095   1.562095  2.994154e+06   \n",
       "\n",
       "            Daily Return  High minus Low  \n",
       "Date                                      \n",
       "2019-10-31      0.006106        0.479405  \n",
       "2019-11-30      0.006188        0.492552  "
      ]
     },
     "execution_count": 18,
     "metadata": {},
     "output_type": "execute_result"
    }
   ],
   "source": [
    "stdev_HNL=df_SPDR.resample('M').std()\n",
    "stdev_HNL"
   ]
  },
  {
   "cell_type": "code",
   "execution_count": 19,
   "metadata": {},
   "outputs": [],
   "source": [
    "import arch"
   ]
  },
  {
   "cell_type": "code",
   "execution_count": 20,
   "metadata": {},
   "outputs": [],
   "source": [
    "def fit_garch(data):\n",
    "    garch = arch.arch_model(data, vol='garch', p=1, o=0, q=1)\n",
    "    garch_fitted = garch.fit()\n",
    "    print(garch_fitted.summary())"
   ]
  },
  {
   "cell_type": "code",
   "execution_count": 21,
   "metadata": {},
   "outputs": [
    {
     "name": "stdout",
     "output_type": "stream",
     "text": [
      "GARCH model for SPDR gol ETF in Oct\n",
      "Iteration:      1,   Func. Count:      6,   Neg. LLF: 208954177912138.06\n",
      "Iteration:      2,   Func. Count:     16,   Neg. LLF: -85.13500713988063\n",
      "Optimization terminated successfully    (Exit mode 0)\n",
      "            Current function value: -85.13500715326597\n",
      "            Iterations: 6\n",
      "            Function evaluations: 16\n",
      "            Gradient evaluations: 2\n",
      "                     Constant Mean - GARCH Model Results                      \n",
      "==============================================================================\n",
      "Dep. Variable:           Daily Return   R-squared:                       0.000\n",
      "Mean Model:             Constant Mean   Adj. R-squared:                  0.000\n",
      "Vol Model:                      GARCH   Log-Likelihood:                85.1350\n",
      "Distribution:                  Normal   AIC:                          -162.270\n",
      "Method:            Maximum Likelihood   BIC:                          -157.728\n",
      "                                        No. Observations:                   23\n",
      "Date:                Mon, Sep 27 2021   Df Residuals:                       22\n",
      "Time:                        23:18:49   Df Model:                            1\n",
      "                                 Mean Model                                 \n",
      "============================================================================\n",
      "                 coef    std err          t      P>|t|      95.0% Conf. Int.\n",
      "----------------------------------------------------------------------------\n",
      "mu         1.0787e-03  3.106e-06    347.337      0.000 [1.073e-03,1.085e-03]\n",
      "                              Volatility Model                              \n",
      "============================================================================\n",
      "                 coef    std err          t      P>|t|      95.0% Conf. Int.\n",
      "----------------------------------------------------------------------------\n",
      "omega      1.0697e-05  6.505e-11  1.644e+05      0.000 [1.070e-05,1.070e-05]\n",
      "alpha[1]   1.0000e-02      0.384  2.602e-02      0.979     [ -0.743,  0.763]\n",
      "beta[1]        0.6900      0.278      2.481  1.311e-02     [  0.145,  1.235]\n",
      "============================================================================\n",
      "\n",
      "Covariance estimator: robust\n",
      "GARCH model for SPDR gol ETF in Nov\n",
      "Iteration:      1,   Func. Count:      6,   Neg. LLF: 12684817.735981466\n",
      "Iteration:      2,   Func. Count:     17,   Neg. LLF: 3098790961.9694123\n",
      "Iteration:      3,   Func. Count:     26,   Neg. LLF: 90.58115432876609\n",
      "Iteration:      4,   Func. Count:     32,   Neg. LLF: 188997164.2147692\n",
      "Iteration:      5,   Func. Count:     43,   Neg. LLF: 495.37561509707734\n",
      "Iteration:      6,   Func. Count:     53,   Neg. LLF: -41.63032405336842\n",
      "Iteration:      7,   Func. Count:     61,   Neg. LLF: -72.77970070778443\n",
      "Iteration:      8,   Func. Count:     67,   Neg. LLF: -27.397502853828644\n",
      "Iteration:      9,   Func. Count:     76,   Neg. LLF: -73.10590020814446\n",
      "Iteration:     10,   Func. Count:     82,   Neg. LLF: -73.19171248943404\n",
      "Iteration:     11,   Func. Count:     88,   Neg. LLF: -73.22360421740231\n",
      "Iteration:     12,   Func. Count:     94,   Neg. LLF: -73.25464869042383\n",
      "Iteration:     13,   Func. Count:    100,   Neg. LLF: -73.660688191581\n",
      "Iteration:     14,   Func. Count:    106,   Neg. LLF: -73.44534207395314\n",
      "Iteration:     15,   Func. Count:    112,   Neg. LLF: 9670350.919971898\n",
      "Iteration:     16,   Func. Count:    122,   Neg. LLF: -74.17959237622874\n",
      "Optimization terminated successfully    (Exit mode 0)\n",
      "            Current function value: -74.17959241954489\n",
      "            Iterations: 20\n",
      "            Function evaluations: 122\n",
      "            Gradient evaluations: 16\n",
      "                     Constant Mean - GARCH Model Results                      \n",
      "==============================================================================\n",
      "Dep. Variable:           Daily Return   R-squared:                       0.000\n",
      "Mean Model:             Constant Mean   Adj. R-squared:                  0.000\n",
      "Vol Model:                      GARCH   Log-Likelihood:                74.1796\n",
      "Distribution:                  Normal   AIC:                          -140.359\n",
      "Method:            Maximum Likelihood   BIC:                          -136.376\n",
      "                                        No. Observations:                   20\n",
      "Date:                Mon, Sep 27 2021   Df Residuals:                       19\n",
      "Time:                        23:18:49   Df Model:                            1\n",
      "                                   Mean Model                                  \n",
      "===============================================================================\n",
      "                  coef    std err          t      P>|t|        95.0% Conf. Int.\n",
      "-------------------------------------------------------------------------------\n",
      "mu         -1.4184e-03  2.022e-06   -701.353      0.000 [-1.422e-03,-1.414e-03]\n",
      "                              Volatility Model                              \n",
      "============================================================================\n",
      "                 coef    std err          t      P>|t|      95.0% Conf. Int.\n",
      "----------------------------------------------------------------------------\n",
      "omega      4.3736e-06  1.480e-10  2.955e+04      0.000 [4.373e-06,4.374e-06]\n",
      "alpha[1]       0.0302      1.224  2.470e-02      0.980     [ -2.369,  2.429]\n",
      "beta[1]        0.8165      1.138      0.717      0.473     [ -1.414,  3.047]\n",
      "============================================================================\n",
      "\n",
      "Covariance estimator: robust\n"
     ]
    }
   ],
   "source": [
    "for mth in [10, 11]:\n",
    "    print(f\"GARCH model for SPDR gol ETF in {month_wise[mth]}\")\n",
    "    model_data= get_data(df_SPDR, mth, \"Daily Return\")\n",
    "    #model_data = model_data.dropna()\n",
    "    fit_garch(model_data)"
   ]
  },
  {
   "cell_type": "markdown",
   "metadata": {},
   "source": [
    " US TREASURY YIELDS"
   ]
  },
  {
   "cell_type": "code",
   "execution_count": 22,
   "metadata": {},
   "outputs": [],
   "source": [
    "df_YLD = pd.read_csv(\"usty.csv\")"
   ]
  },
  {
   "cell_type": "code",
   "execution_count": 23,
   "metadata": {},
   "outputs": [
    {
     "data": {
      "text/html": [
       "<div>\n",
       "<style scoped>\n",
       "    .dataframe tbody tr th:only-of-type {\n",
       "        vertical-align: middle;\n",
       "    }\n",
       "\n",
       "    .dataframe tbody tr th {\n",
       "        vertical-align: top;\n",
       "    }\n",
       "\n",
       "    .dataframe thead th {\n",
       "        text-align: right;\n",
       "    }\n",
       "</style>\n",
       "<table border=\"1\" class=\"dataframe\">\n",
       "  <thead>\n",
       "    <tr style=\"text-align: right;\">\n",
       "      <th></th>\n",
       "      <th>Date</th>\n",
       "      <th>2 Yr</th>\n",
       "      <th>3 Yr</th>\n",
       "      <th>5 Yr</th>\n",
       "      <th>7 Yr</th>\n",
       "      <th>10 Yr</th>\n",
       "      <th>30 Yr</th>\n",
       "    </tr>\n",
       "  </thead>\n",
       "  <tbody>\n",
       "    <tr>\n",
       "      <th>0</th>\n",
       "      <td>10/1/2019</td>\n",
       "      <td>1.56</td>\n",
       "      <td>1.51</td>\n",
       "      <td>1.51</td>\n",
       "      <td>1.59</td>\n",
       "      <td>1.65</td>\n",
       "      <td>2.11</td>\n",
       "    </tr>\n",
       "    <tr>\n",
       "      <th>1</th>\n",
       "      <td>10/2/2019</td>\n",
       "      <td>1.48</td>\n",
       "      <td>1.43</td>\n",
       "      <td>1.43</td>\n",
       "      <td>1.53</td>\n",
       "      <td>1.60</td>\n",
       "      <td>2.09</td>\n",
       "    </tr>\n",
       "    <tr>\n",
       "      <th>2</th>\n",
       "      <td>10/3/2019</td>\n",
       "      <td>1.39</td>\n",
       "      <td>1.34</td>\n",
       "      <td>1.34</td>\n",
       "      <td>1.45</td>\n",
       "      <td>1.54</td>\n",
       "      <td>2.04</td>\n",
       "    </tr>\n",
       "    <tr>\n",
       "      <th>3</th>\n",
       "      <td>10/4/2019</td>\n",
       "      <td>1.40</td>\n",
       "      <td>1.35</td>\n",
       "      <td>1.34</td>\n",
       "      <td>1.43</td>\n",
       "      <td>1.52</td>\n",
       "      <td>2.01</td>\n",
       "    </tr>\n",
       "    <tr>\n",
       "      <th>4</th>\n",
       "      <td>10/7/2019</td>\n",
       "      <td>1.46</td>\n",
       "      <td>1.41</td>\n",
       "      <td>1.38</td>\n",
       "      <td>1.47</td>\n",
       "      <td>1.56</td>\n",
       "      <td>2.05</td>\n",
       "    </tr>\n",
       "  </tbody>\n",
       "</table>\n",
       "</div>"
      ],
      "text/plain": [
       "        Date  2 Yr  3 Yr  5 Yr  7 Yr  10 Yr  30 Yr\n",
       "0  10/1/2019  1.56  1.51  1.51  1.59   1.65   2.11\n",
       "1  10/2/2019  1.48  1.43  1.43  1.53   1.60   2.09\n",
       "2  10/3/2019  1.39  1.34  1.34  1.45   1.54   2.04\n",
       "3  10/4/2019  1.40  1.35  1.34  1.43   1.52   2.01\n",
       "4  10/7/2019  1.46  1.41  1.38  1.47   1.56   2.05"
      ]
     },
     "execution_count": 23,
     "metadata": {},
     "output_type": "execute_result"
    }
   ],
   "source": [
    "df_YLD.head()"
   ]
  },
  {
   "cell_type": "code",
   "execution_count": 24,
   "metadata": {},
   "outputs": [
    {
     "data": {
      "text/html": [
       "<div>\n",
       "<style scoped>\n",
       "    .dataframe tbody tr th:only-of-type {\n",
       "        vertical-align: middle;\n",
       "    }\n",
       "\n",
       "    .dataframe tbody tr th {\n",
       "        vertical-align: top;\n",
       "    }\n",
       "\n",
       "    .dataframe thead th {\n",
       "        text-align: right;\n",
       "    }\n",
       "</style>\n",
       "<table border=\"1\" class=\"dataframe\">\n",
       "  <thead>\n",
       "    <tr style=\"text-align: right;\">\n",
       "      <th></th>\n",
       "      <th>Date</th>\n",
       "      <th>2 Yr</th>\n",
       "      <th>3 Yr</th>\n",
       "      <th>5 Yr</th>\n",
       "      <th>7 Yr</th>\n",
       "      <th>10 Yr</th>\n",
       "      <th>30 Yr</th>\n",
       "    </tr>\n",
       "  </thead>\n",
       "  <tbody>\n",
       "    <tr>\n",
       "      <th>36</th>\n",
       "      <td>11/22/2019</td>\n",
       "      <td>1.61</td>\n",
       "      <td>1.60</td>\n",
       "      <td>1.62</td>\n",
       "      <td>1.71</td>\n",
       "      <td>1.77</td>\n",
       "      <td>2.22</td>\n",
       "    </tr>\n",
       "    <tr>\n",
       "      <th>37</th>\n",
       "      <td>11/25/2019</td>\n",
       "      <td>1.61</td>\n",
       "      <td>1.60</td>\n",
       "      <td>1.62</td>\n",
       "      <td>1.71</td>\n",
       "      <td>1.76</td>\n",
       "      <td>2.21</td>\n",
       "    </tr>\n",
       "    <tr>\n",
       "      <th>38</th>\n",
       "      <td>11/26/2019</td>\n",
       "      <td>1.58</td>\n",
       "      <td>1.58</td>\n",
       "      <td>1.58</td>\n",
       "      <td>1.68</td>\n",
       "      <td>1.74</td>\n",
       "      <td>2.18</td>\n",
       "    </tr>\n",
       "    <tr>\n",
       "      <th>39</th>\n",
       "      <td>11/27/2019</td>\n",
       "      <td>1.63</td>\n",
       "      <td>1.61</td>\n",
       "      <td>1.63</td>\n",
       "      <td>1.71</td>\n",
       "      <td>1.77</td>\n",
       "      <td>2.19</td>\n",
       "    </tr>\n",
       "    <tr>\n",
       "      <th>40</th>\n",
       "      <td>11/29/2019</td>\n",
       "      <td>1.61</td>\n",
       "      <td>1.61</td>\n",
       "      <td>1.62</td>\n",
       "      <td>1.73</td>\n",
       "      <td>1.78</td>\n",
       "      <td>2.21</td>\n",
       "    </tr>\n",
       "  </tbody>\n",
       "</table>\n",
       "</div>"
      ],
      "text/plain": [
       "          Date  2 Yr  3 Yr  5 Yr  7 Yr  10 Yr  30 Yr\n",
       "36  11/22/2019  1.61  1.60  1.62  1.71   1.77   2.22\n",
       "37  11/25/2019  1.61  1.60  1.62  1.71   1.76   2.21\n",
       "38  11/26/2019  1.58  1.58  1.58  1.68   1.74   2.18\n",
       "39  11/27/2019  1.63  1.61  1.63  1.71   1.77   2.19\n",
       "40  11/29/2019  1.61  1.61  1.62  1.73   1.78   2.21"
      ]
     },
     "execution_count": 24,
     "metadata": {},
     "output_type": "execute_result"
    }
   ],
   "source": [
    "df_YLD.tail()"
   ]
  },
  {
   "cell_type": "code",
   "execution_count": 25,
   "metadata": {},
   "outputs": [
    {
     "data": {
      "text/html": [
       "<div>\n",
       "<style scoped>\n",
       "    .dataframe tbody tr th:only-of-type {\n",
       "        vertical-align: middle;\n",
       "    }\n",
       "\n",
       "    .dataframe tbody tr th {\n",
       "        vertical-align: top;\n",
       "    }\n",
       "\n",
       "    .dataframe thead th {\n",
       "        text-align: right;\n",
       "    }\n",
       "</style>\n",
       "<table border=\"1\" class=\"dataframe\">\n",
       "  <thead>\n",
       "    <tr style=\"text-align: right;\">\n",
       "      <th></th>\n",
       "      <th>2 Yr</th>\n",
       "      <th>3 Yr</th>\n",
       "      <th>5 Yr</th>\n",
       "      <th>7 Yr</th>\n",
       "      <th>10 Yr</th>\n",
       "      <th>30 Yr</th>\n",
       "    </tr>\n",
       "    <tr>\n",
       "      <th>Date</th>\n",
       "      <th></th>\n",
       "      <th></th>\n",
       "      <th></th>\n",
       "      <th></th>\n",
       "      <th></th>\n",
       "      <th></th>\n",
       "    </tr>\n",
       "  </thead>\n",
       "  <tbody>\n",
       "    <tr>\n",
       "      <th>2019-10-01</th>\n",
       "      <td>1.56</td>\n",
       "      <td>1.51</td>\n",
       "      <td>1.51</td>\n",
       "      <td>1.59</td>\n",
       "      <td>1.65</td>\n",
       "      <td>2.11</td>\n",
       "    </tr>\n",
       "    <tr>\n",
       "      <th>2019-10-02</th>\n",
       "      <td>1.48</td>\n",
       "      <td>1.43</td>\n",
       "      <td>1.43</td>\n",
       "      <td>1.53</td>\n",
       "      <td>1.60</td>\n",
       "      <td>2.09</td>\n",
       "    </tr>\n",
       "    <tr>\n",
       "      <th>2019-10-03</th>\n",
       "      <td>1.39</td>\n",
       "      <td>1.34</td>\n",
       "      <td>1.34</td>\n",
       "      <td>1.45</td>\n",
       "      <td>1.54</td>\n",
       "      <td>2.04</td>\n",
       "    </tr>\n",
       "    <tr>\n",
       "      <th>2019-10-04</th>\n",
       "      <td>1.40</td>\n",
       "      <td>1.35</td>\n",
       "      <td>1.34</td>\n",
       "      <td>1.43</td>\n",
       "      <td>1.52</td>\n",
       "      <td>2.01</td>\n",
       "    </tr>\n",
       "    <tr>\n",
       "      <th>2019-10-07</th>\n",
       "      <td>1.46</td>\n",
       "      <td>1.41</td>\n",
       "      <td>1.38</td>\n",
       "      <td>1.47</td>\n",
       "      <td>1.56</td>\n",
       "      <td>2.05</td>\n",
       "    </tr>\n",
       "  </tbody>\n",
       "</table>\n",
       "</div>"
      ],
      "text/plain": [
       "            2 Yr  3 Yr  5 Yr  7 Yr  10 Yr  30 Yr\n",
       "Date                                            \n",
       "2019-10-01  1.56  1.51  1.51  1.59   1.65   2.11\n",
       "2019-10-02  1.48  1.43  1.43  1.53   1.60   2.09\n",
       "2019-10-03  1.39  1.34  1.34  1.45   1.54   2.04\n",
       "2019-10-04  1.40  1.35  1.34  1.43   1.52   2.01\n",
       "2019-10-07  1.46  1.41  1.38  1.47   1.56   2.05"
      ]
     },
     "execution_count": 25,
     "metadata": {},
     "output_type": "execute_result"
    }
   ],
   "source": [
    "df_YLD[\"Date\"] = pd.to_datetime(df_YLD[\"Date\"], format=\"%m/%d/%Y\")\n",
    "df_YLD.set_index(\"Date\", inplace=True)\n",
    "df_YLD.head()"
   ]
  },
  {
   "cell_type": "code",
   "execution_count": 26,
   "metadata": {},
   "outputs": [],
   "source": [
    "def get_data1(df, month, column):\n",
    "    return df[(df.index >= f\"{month:02d}/01/2019\") & (df.index < f\"{(month+1):02d}/01/2019\")][column]"
   ]
  },
  {
   "cell_type": "code",
   "execution_count": 27,
   "metadata": {},
   "outputs": [
    {
     "data": {
      "text/html": [
       "<div>\n",
       "<style scoped>\n",
       "    .dataframe tbody tr th:only-of-type {\n",
       "        vertical-align: middle;\n",
       "    }\n",
       "\n",
       "    .dataframe tbody tr th {\n",
       "        vertical-align: top;\n",
       "    }\n",
       "\n",
       "    .dataframe thead th {\n",
       "        text-align: right;\n",
       "    }\n",
       "</style>\n",
       "<table border=\"1\" class=\"dataframe\">\n",
       "  <thead>\n",
       "    <tr style=\"text-align: right;\">\n",
       "      <th></th>\n",
       "      <th>2 Yr</th>\n",
       "      <th>3 Yr</th>\n",
       "      <th>5 Yr</th>\n",
       "      <th>7 Yr</th>\n",
       "      <th>10 Yr</th>\n",
       "      <th>30 Yr</th>\n",
       "    </tr>\n",
       "    <tr>\n",
       "      <th>Date</th>\n",
       "      <th></th>\n",
       "      <th></th>\n",
       "      <th></th>\n",
       "      <th></th>\n",
       "      <th></th>\n",
       "      <th></th>\n",
       "    </tr>\n",
       "  </thead>\n",
       "  <tbody>\n",
       "    <tr>\n",
       "      <th>2019-10-31</th>\n",
       "      <td>1.551364</td>\n",
       "      <td>1.528182</td>\n",
       "      <td>1.525000</td>\n",
       "      <td>1.615000</td>\n",
       "      <td>1.706818</td>\n",
       "      <td>2.190455</td>\n",
       "    </tr>\n",
       "    <tr>\n",
       "      <th>2019-11-30</th>\n",
       "      <td>1.612632</td>\n",
       "      <td>1.612105</td>\n",
       "      <td>1.639474</td>\n",
       "      <td>1.735789</td>\n",
       "      <td>1.812105</td>\n",
       "      <td>2.280526</td>\n",
       "    </tr>\n",
       "  </tbody>\n",
       "</table>\n",
       "</div>"
      ],
      "text/plain": [
       "                2 Yr      3 Yr      5 Yr      7 Yr     10 Yr     30 Yr\n",
       "Date                                                                  \n",
       "2019-10-31  1.551364  1.528182  1.525000  1.615000  1.706818  2.190455\n",
       "2019-11-30  1.612632  1.612105  1.639474  1.735789  1.812105  2.280526"
      ]
     },
     "execution_count": 27,
     "metadata": {},
     "output_type": "execute_result"
    }
   ],
   "source": [
    "average_price11=df_YLD.resample('M').mean()\n",
    "average_price11"
   ]
  },
  {
   "cell_type": "code",
   "execution_count": 28,
   "metadata": {},
   "outputs": [
    {
     "name": "stdout",
     "output_type": "stream",
     "text": [
      "Requirement already satisfied: nelson-siegel-svensson in /Users/vidhanajmera/opt/anaconda3/lib/python3.8/site-packages (0.4.2)\n",
      "Requirement already satisfied: scipy>=1.2 in /Users/vidhanajmera/opt/anaconda3/lib/python3.8/site-packages (from nelson-siegel-svensson) (1.5.2)\n",
      "Requirement already satisfied: matplotlib>=3.0 in /Users/vidhanajmera/opt/anaconda3/lib/python3.8/site-packages (from nelson-siegel-svensson) (3.3.2)\n",
      "Requirement already satisfied: Click>=6.0 in /Users/vidhanajmera/opt/anaconda3/lib/python3.8/site-packages (from nelson-siegel-svensson) (7.1.2)\n",
      "Requirement already satisfied: numpy>=1.14 in /Users/vidhanajmera/opt/anaconda3/lib/python3.8/site-packages (from nelson-siegel-svensson) (1.21.2)\n",
      "Requirement already satisfied: kiwisolver>=1.0.1 in /Users/vidhanajmera/opt/anaconda3/lib/python3.8/site-packages (from matplotlib>=3.0->nelson-siegel-svensson) (1.3.0)\n",
      "Requirement already satisfied: cycler>=0.10 in /Users/vidhanajmera/opt/anaconda3/lib/python3.8/site-packages (from matplotlib>=3.0->nelson-siegel-svensson) (0.10.0)\n",
      "Requirement already satisfied: pyparsing!=2.0.4,!=2.1.2,!=2.1.6,>=2.0.3 in /Users/vidhanajmera/opt/anaconda3/lib/python3.8/site-packages (from matplotlib>=3.0->nelson-siegel-svensson) (2.4.7)\n",
      "Requirement already satisfied: python-dateutil>=2.1 in /Users/vidhanajmera/opt/anaconda3/lib/python3.8/site-packages (from matplotlib>=3.0->nelson-siegel-svensson) (2.8.1)\n",
      "Requirement already satisfied: certifi>=2020.06.20 in /Users/vidhanajmera/opt/anaconda3/lib/python3.8/site-packages (from matplotlib>=3.0->nelson-siegel-svensson) (2020.6.20)\n",
      "Requirement already satisfied: pillow>=6.2.0 in /Users/vidhanajmera/opt/anaconda3/lib/python3.8/site-packages (from matplotlib>=3.0->nelson-siegel-svensson) (8.0.1)\n",
      "Requirement already satisfied: six in /Users/vidhanajmera/opt/anaconda3/lib/python3.8/site-packages (from cycler>=0.10->matplotlib>=3.0->nelson-siegel-svensson) (1.15.0)\n",
      "Note: you may need to restart the kernel to use updated packages.\n"
     ]
    }
   ],
   "source": [
    "pip install nelson-siegel-svensson"
   ]
  },
  {
   "cell_type": "code",
   "execution_count": 29,
   "metadata": {},
   "outputs": [],
   "source": [
    "from nelson_siegel_svensson import NelsonSiegelSvenssonCurve, NelsonSiegelCurve\n",
    "from nelson_siegel_svensson.calibrate import calibrate_ns_ols, calibrate_nss_ols"
   ]
  },
  {
   "cell_type": "code",
   "execution_count": 30,
   "metadata": {},
   "outputs": [
    {
     "name": "stdout",
     "output_type": "stream",
     "text": [
      "NelsonSiegelSvenssonCurve(beta0=2.645710487459981, beta1=-0.6719604637555316, beta2=-1.411767032309886, beta3=-2.035757667745372, tau1=1.5991632396669733, tau2=5.180449901447694)\n"
     ]
    },
    {
     "data": {
      "image/png": "[encoded data removed]",
      "text/plain": [
       "<Figure size 432x288 with 1 Axes>"
      ]
     },
     "metadata": {
      "needs_background": "light"
     },
     "output_type": "display_data"
    }
   ],
   "source": [
    "time_period =np.array([2.0,3.0,5.0,7.0,10.0,30.0])\n",
    "avg_yld = np.array([1.551364,1.528182,1.525000,1.615000,1.706818,2.190455])\n",
    "#avg_yld = np.array([1.612632,1.612105,1.639474,1.735789,1.812105,2.280526])\n",
    "curve_fit, status = calibrate_nss_ols(time_period,avg_yld)\n",
    "NSS_ZC = NelsonSiegelSvenssonCurve.zero(curve_fit,time_period)\n",
    "NSS_ZC\n",
    "October_curve, status = calibrate_nss_ols(time_period,NSS_ZC)\n",
    "assert status.success\n",
    "print(October_curve)\n",
    "\n",
    "t_scale = np.linspace(0,20,100)\n",
    "plt.plot(t_scale,October_curve(t_scale))\n",
    "plt.show()"
   ]
  },
  {
   "cell_type": "code",
   "execution_count": 32,
   "metadata": {},
   "outputs": [
    {
     "name": "stdout",
     "output_type": "stream",
     "text": [
      "NelsonSiegelSvenssonCurve(beta0=391.2663143598604, beta1=-389.4677603672869, beta2=-139.5879761100773, beta3=-966.2159137274052, tau1=9.158999257478253, tau2=34.9982121903236)\n"
     ]
    },
    {
     "data": {
      "image/png": "[encoded data removed]",
      "text/plain": [
       "<Figure size 432x288 with 1 Axes>"
      ]
     },
     "metadata": {
      "needs_background": "light"
     },
     "output_type": "display_data"
    }
   ],
   "source": [
    "time_period =np.array([2.0,3.0,5.0,7.0,10.0,30.0])\n",
    "#avg_yld = np.array([1.551364,1.528182,1.525000,1.615000,1.706818,2.190455])\n",
    "#y =     np.array([1.551385,1.527154,1.525115,1.614000,1.701423,2.187269])\n",
    "avg_yld = np.array([1.612632,1.612105,1.639474,1.735789,1.812105,2.280526])\n",
    "curve_fit, status = calibrate_nss_ols(time_period,avg_yld)\n",
    "NSS_ZC = NelsonSiegelSvenssonCurve.zero(curve_fit,time_period)\n",
    "NSS_ZC\n",
    "November_curve, status = calibrate_nss_ols(time_period,NSS_ZC)\n",
    "assert status.success\n",
    "print(November_curve)\n",
    "\n",
    "t_scale = np.linspace(0,20,100)\n",
    "plt.plot(t_scale,November_curve(t_scale), label='November')\n",
    "plt.plot(t_scale,October_curve(t_scale), label='October')\n",
    "plt.legend()\n",
    "plt.xlabel('maturity years')\n",
    "plt.ylabel('fitted yield value in percent')\n",
    "plt.show()"
   ]
  },
  {
   "cell_type": "code",
   "execution_count": null,
   "metadata": {},
   "outputs": [],
   "source": []
  }
 ],
 "metadata": {
  "kernelspec": {
   "display_name": "Python 3",
   "language": "python",
   "name": "python3"
  },
  "language_info": {
   "codemirror_mode": {
    "name": "ipython",
    "version": 3
   },
   "file_extension": ".py",
   "mimetype": "text/x-python",
   "name": "python",
   "nbconvert_exporter": "python",
   "pygments_lexer": "ipython3",
   "version": "3.8.5"
  }
 },
 "nbformat": 4,
 "nbformat_minor": 4
}
